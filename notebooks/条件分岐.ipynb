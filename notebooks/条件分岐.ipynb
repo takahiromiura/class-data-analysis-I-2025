{
  "cells": [
    {
      "cell_type": "markdown",
      "metadata": {
        "id": "view-in-github",
        "colab_type": "text"
      },
      "source": [
        "<a href=\"https://colab.research.google.com/github/takahiromiura/class-data-analysis-I-2025/blob/main/notebooks/%E6%9D%A1%E4%BB%B6%E5%88%86%E5%B2%90.ipynb\" target=\"_parent\"><img src=\"https://colab.research.google.com/assets/colab-badge.svg\" alt=\"Open In Colab\"/></a>"
      ]
    },
    {
      "cell_type": "markdown",
      "metadata": {
        "id": "YsMIQnYRwJ0y"
      },
      "source": [
        "# 条件分岐\n",
        "\n",
        "ある条件を満たしていたら処理 A、そうでないなら処理 B を行うことを条件分岐といいます。\n",
        "\n",
        "Python は他のプログラミング言語と異なり、インデントに意味があり、使える場面が限られます。\n",
        "\n",
        "- インデントは、行の初めに空白を入れて文字を右にシフトさせることです。\n",
        "\n",
        "  - これはインデントの例です\n",
        "\n",
        "段落の初めを 1 文字空けるのもインデントの例です。\n",
        "\n",
        "例えば、Python では以下は `3` はエラーになりません。"
      ]
    },
    {
      "cell_type": "code",
      "execution_count": 1,
      "metadata": {
        "id": "urfVG8tSwJ00",
        "outputId": "d374e167-f92c-45aa-a45b-580f8dcf58e5",
        "colab": {
          "base_uri": "https://localhost:8080/"
        }
      },
      "outputs": [
        {
          "output_type": "execute_result",
          "data": {
            "text/plain": [
              "3"
            ]
          },
          "metadata": {},
          "execution_count": 1
        }
      ],
      "source": [
        "3"
      ]
    },
    {
      "cell_type": "markdown",
      "metadata": {
        "id": "w0mDaGBICnko"
      },
      "source": [
        "次のように空白、つまりインデントがあるとエラーになります (Colab だと 1 行目に空白があってもエラーにならない)。"
      ]
    },
    {
      "cell_type": "code",
      "execution_count": 2,
      "metadata": {
        "id": "1gfGS1PoCnko"
      },
      "outputs": [],
      "source": [
        "#     3"
      ]
    },
    {
      "cell_type": "markdown",
      "metadata": {
        "id": "-q_UGGgxwJ01"
      },
      "source": [
        "## print 関数\n",
        "\n",
        "条件分岐で何が起こっているか分かりやすくするために、print 関数について説明します。\n",
        "\n",
        "Colab ノートブックは、以下のコードのように最後の行の結果を出力します。"
      ]
    },
    {
      "cell_type": "code",
      "execution_count": 3,
      "metadata": {
        "colab": {
          "base_uri": "https://localhost:8080/"
        },
        "id": "pX15XDJUwJ01",
        "outputId": "36529a02-3d9f-450b-cced-67b36466748b"
      },
      "outputs": [
        {
          "output_type": "execute_result",
          "data": {
            "text/plain": [
              "[1, 2, 3]"
            ]
          },
          "metadata": {},
          "execution_count": 3
        }
      ],
      "source": [
        "NUMS = [1, 2, 3]\n",
        "NUMS"
      ]
    },
    {
      "cell_type": "markdown",
      "metadata": {
        "id": "U2IB-fYtwJ02"
      },
      "source": [
        "以下のように、最後の行で値を参照してない場合は何も出力されません。"
      ]
    },
    {
      "cell_type": "code",
      "execution_count": 4,
      "metadata": {
        "id": "SyNn2-eGwJ02"
      },
      "outputs": [],
      "source": [
        "NUMS\n",
        "NUMS = [4, 5, 6] # 変数再定義"
      ]
    },
    {
      "cell_type": "markdown",
      "metadata": {
        "id": "j30M1XOjwJ02"
      },
      "source": [
        "最後の行以外の結果も出力するには print 関数を用います。\n",
        "\n",
        "print 関数は `()` 内に出力するものを入れます。"
      ]
    },
    {
      "cell_type": "code",
      "execution_count": 5,
      "metadata": {
        "colab": {
          "base_uri": "https://localhost:8080/"
        },
        "id": "iux91z29wJ02",
        "outputId": "57d24dc1-b04f-4f78-ab95-c58074d7db11"
      },
      "outputs": [
        {
          "output_type": "stream",
          "name": "stdout",
          "text": [
            "[4, 5, 6]\n"
          ]
        }
      ],
      "source": [
        "print(NUMS)\n",
        "NUMS = [4, 5, 6]"
      ]
    },
    {
      "cell_type": "markdown",
      "metadata": {
        "id": "OEIPu8r_wJ02"
      },
      "source": [
        "print 関数で文字列を出力すると、ダブルクォーテーションおよびシングルクォーテーションは除去されます。"
      ]
    },
    {
      "cell_type": "code",
      "execution_count": 6,
      "metadata": {
        "colab": {
          "base_uri": "https://localhost:8080/"
        },
        "id": "JRe_avvHwJ03",
        "outputId": "ee5cac4f-ade4-44f7-b985-1cedc002d913"
      },
      "outputs": [
        {
          "output_type": "stream",
          "name": "stdout",
          "text": [
            "Hello World!\n"
          ]
        }
      ],
      "source": [
        "print(\"Hello World!\")"
      ]
    },
    {
      "cell_type": "markdown",
      "metadata": {
        "id": "qksgUZ04wJ03"
      },
      "source": [
        "次のようにすれば、リストの各要素を 1 つのセルで出力できます。"
      ]
    },
    {
      "cell_type": "code",
      "execution_count": 7,
      "metadata": {
        "colab": {
          "base_uri": "https://localhost:8080/"
        },
        "id": "ToHwPMNMwJ03",
        "outputId": "4bdd2764-dad3-4473-cc3a-d774835ec772"
      },
      "outputs": [
        {
          "output_type": "stream",
          "name": "stdout",
          "text": [
            "1\n",
            "2\n",
            "3\n"
          ]
        }
      ],
      "source": [
        "NUMS = [1, 2, 3]\n",
        "print(NUMS[0])\n",
        "print(NUMS[1])\n",
        "print(NUMS[2])"
      ]
    },
    {
      "cell_type": "markdown",
      "metadata": {
        "id": "7aDHiRDswJ03"
      },
      "source": [
        "## if 構文\n",
        "\n",
        "条件分岐をするには if 構文を用います。\n",
        "\n",
        "if 構文ではインデントを用います。\n",
        "\n",
        "例えば、次のコードは、`<condition>` が真ならば `operation 1` が実行されます。\n",
        "\n",
        "偽の場合は `operation 2` が実行されます。\n",
        "\n",
        "`if <condition>`, `else` の後に `:` を使うことに注意してください。\n",
        "\n",
        "```py\n",
        "if <condition>:\n",
        "    operation 1\n",
        "else:\n",
        "    operation 2\n",
        "```\n",
        "\n",
        "下のコードの場合、変数 `A` は 2 より大きいので `1` が出力されます。"
      ]
    },
    {
      "cell_type": "code",
      "execution_count": 8,
      "metadata": {
        "colab": {
          "base_uri": "https://localhost:8080/"
        },
        "id": "J5mPdFA8wJ03",
        "outputId": "f7d94467-5bc1-49a8-852d-1693352a54cb"
      },
      "outputs": [
        {
          "output_type": "stream",
          "name": "stdout",
          "text": [
            "1\n"
          ]
        }
      ],
      "source": [
        "A = 3\n",
        "if A > 2:\n",
        "    print(1)\n",
        "\n",
        "else:\n",
        "    print(2)\n"
      ]
    },
    {
      "cell_type": "markdown",
      "metadata": {
        "id": "ca1I25vlCnkr"
      },
      "source": [
        "##### やってみよう\n",
        "\n",
        "上記のコードが何をしているか、文章で説明してみてください。\n",
        "\n",
        "ヒント: 分岐の条件は何か、各分岐で何が行われているか。"
      ]
    },
    {
      "cell_type": "markdown",
      "metadata": {
        "id": "xg1OzKr1Cnkr"
      },
      "source": [
        "##### 補足説明: 構文\n",
        "\n",
        "コードの書き方ないしは規則のことを **構文** (シンタックス: syntax) といいます。"
      ]
    },
    {
      "cell_type": "markdown",
      "metadata": {
        "id": "N-7JH6IjwJ03"
      },
      "source": [
        "文法上は 1 つ以上のスペースでインデントが可能ですが、Python では 4 つのスペースでインデントするのが推奨されています。\n",
        "\n",
        "[Python のコードスタイルガイド](https://pep8-ja.readthedocs.io/ja/latest/#section-4)\n",
        "\n",
        "4 つスペースを打つには、`tab` キーを使います。\n",
        "\n",
        "`operation 1` や `operation 2` は 1 行で書かれている必要はなく、複数の行のコードをまとめたブロックが実行されます。\n",
        "\n",
        "このブロックはインデントで表現します。\n",
        "\n",
        "つまり、`operation 1` や `operation 2` が終わりであることを示したい場合には、インデントをやめればよいです。    "
      ]
    },
    {
      "cell_type": "code",
      "execution_count": 9,
      "metadata": {
        "colab": {
          "base_uri": "https://localhost:8080/"
        },
        "id": "uPghgwWvwJ03",
        "outputId": "3e13e602-c0d4-4eaf-fba0-ab6c0cc2e719"
      },
      "outputs": [
        {
          "output_type": "stream",
          "name": "stdout",
          "text": [
            "2\n",
            "3\n"
          ]
        }
      ],
      "source": [
        "B = 10\n",
        "if B < 2:\n",
        "    print(1)\n",
        "\n",
        "else:\n",
        "    print(2)\n",
        "    print(3)"
      ]
    },
    {
      "cell_type": "markdown",
      "metadata": {
        "id": "epZtkYkACnkr"
      },
      "source": [
        "インデントにつかうスペースの数はいくつでも良いですが、同じインデントブロック内ではスペースの数を揃える必要があります。\n",
        "例えば、以下のような書き方はエラーになります。"
      ]
    },
    {
      "cell_type": "code",
      "execution_count": 10,
      "metadata": {
        "id": "i1z9dqJCCnkr"
      },
      "outputs": [],
      "source": [
        "# if B > 5:\n",
        "#     print(1)\n",
        "#  print(3)"
      ]
    },
    {
      "cell_type": "markdown",
      "metadata": {
        "id": "65VRn2Y4Cnks"
      },
      "source": [
        "#### 補足説明: コーディング規約\n",
        "\n",
        "コードスタイルガイド、あるいはコーディング規約は、これに沿うことでコードが見やすくなるというガイドラインです。\n",
        "\n",
        "構文とは異なり、外れてもエラーにはなりません。\n",
        "\n",
        "有名なコーディング規約は上記のリンクにある PEP8 というものです。\n",
        "\n",
        "時間があるときに読んでみるのも良いでしょう。"
      ]
    },
    {
      "cell_type": "markdown",
      "metadata": {
        "id": "Q6BCDk1TwJ04"
      },
      "source": [
        "`else` は省略可能です。\n",
        "\n",
        "その場合、条件式が真でない場合は何も実行されません。"
      ]
    },
    {
      "cell_type": "code",
      "execution_count": 11,
      "metadata": {
        "id": "YBicyEiAwJ04"
      },
      "outputs": [],
      "source": [
        "if 3 < 2:\n",
        "    print(1)"
      ]
    },
    {
      "cell_type": "markdown",
      "metadata": {
        "id": "zdAHr6EIwJ04"
      },
      "source": [
        "条件分岐を増やす場合は、`elif` を使います。\n",
        "\n",
        "例えば、`C > 10` かどうかを判定した後、`C < 0` なら別のコードを実行したい場合は次のようになります。\n",
        "    "
      ]
    },
    {
      "cell_type": "code",
      "execution_count": 12,
      "metadata": {
        "colab": {
          "base_uri": "https://localhost:8080/"
        },
        "id": "tx1dRro3wJ04",
        "outputId": "1d948c61-5247-479e-8d8c-d2984ffdf4b5"
      },
      "outputs": [
        {
          "output_type": "stream",
          "name": "stdout",
          "text": [
            "C < 0\n"
          ]
        }
      ],
      "source": [
        "C = -5\n",
        "if C > 10:\n",
        "    print(\"C > 10\")\n",
        "\n",
        "elif C < 0:\n",
        "    print(\"C < 0\")\n",
        "\n",
        "else:\n",
        "    print(\"0 <= C <= 10\")\n"
      ]
    },
    {
      "cell_type": "markdown",
      "metadata": {
        "id": "ZVYRrXYgwJ04"
      },
      "source": [
        "注意点として、条件分岐は上から評価され、条件が初めに真になったところで条件分岐は終了します。\n",
        "\n",
        "細かい条件を最初に書かないと、意図しない挙動になります。\n"
      ]
    },
    {
      "cell_type": "code",
      "execution_count": 13,
      "metadata": {
        "colab": {
          "base_uri": "https://localhost:8080/"
        },
        "id": "kROGSzHjwJ04",
        "outputId": "919d3f1c-fb98-4e03-c147-038144361a5b"
      },
      "outputs": [
        {
          "output_type": "stream",
          "name": "stdout",
          "text": [
            "D > 5\n"
          ]
        }
      ],
      "source": [
        "D = 15\n",
        "if D > 5:\n",
        "    print(\"D > 5\") # ここが実行される\n",
        "\n",
        "elif D > 10:\n",
        "    print(\"D > 10\")\n",
        "\n",
        "else:\n",
        "    print(\"D <= 5\")\n"
      ]
    },
    {
      "cell_type": "code",
      "execution_count": 14,
      "metadata": {
        "colab": {
          "base_uri": "https://localhost:8080/"
        },
        "id": "_1sGIbi_wJ04",
        "outputId": "f7029f8b-f3a3-4e7b-ee8a-1971198178b7"
      },
      "outputs": [
        {
          "output_type": "stream",
          "name": "stdout",
          "text": [
            "D > 10\n"
          ]
        }
      ],
      "source": [
        "D = 15\n",
        "if D > 10:\n",
        "    print(\"D > 10\") # ここが実行される\n",
        "\n",
        "elif D > 5:\n",
        "    print(\"D > 5\")\n",
        "\n",
        "else:\n",
        "    print(\"D <= 5\")\n"
      ]
    },
    {
      "cell_type": "markdown",
      "metadata": {
        "id": "hfkAiwd6wJ05"
      },
      "source": [
        "## やってみよう\n",
        "\n",
        "ある数字が変数 `A` に割り当てられているとして、次の条件式を作成してみましょう。\n",
        "\n",
        "- `A` が 10 より大きければ、`large` と出力する\n",
        "- `A` が 5 より小さいならば、 `small` と出力する\n",
        "- `A` が 11 と同じならば、`eleven` と出力する\n",
        "- それ以外の場合、`other` と出力する\n",
        "\n",
        "A の値を -5, 0, 11, 20 として、正しく実行されるかチェックしてください。\n",
        "\n",
        "正しければ、`small`, `other`, `eleven`, `large` と表示されるはずです。"
      ]
    },
    {
      "cell_type": "markdown",
      "metadata": {
        "id": "wRT0lqNWwJ05"
      },
      "source": [
        "# 論理演算子\n",
        "\n",
        "A かつ B や、A または B、A ではないという評価をすることもできます。\n",
        "これらを用いて、より複雑な条件分岐が可能になります。\n",
        "\n",
        "- `and`: A かつ B\n",
        "- `or`: A または B\n",
        "- `not`: A ではない\n",
        "\n",
        "これらは比較演算子の評価の後に行われます。"
      ]
    },
    {
      "cell_type": "code",
      "execution_count": 15,
      "metadata": {
        "colab": {
          "base_uri": "https://localhost:8080/"
        },
        "id": "6Fyj56wVwJ05",
        "outputId": "518716a5-08cb-40c5-b901-b4a727502100"
      },
      "outputs": [
        {
          "output_type": "execute_result",
          "data": {
            "text/plain": [
              "True"
            ]
          },
          "metadata": {},
          "execution_count": 15
        }
      ],
      "source": [
        "age = 40\n",
        "age > 20 and age < 50 # age が 20 より大きい、かつ 50 より小さいかどうか"
      ]
    },
    {
      "cell_type": "code",
      "execution_count": 16,
      "metadata": {
        "colab": {
          "base_uri": "https://localhost:8080/"
        },
        "id": "x0YoK80FwJ05",
        "outputId": "459145a5-c730-40fe-d96a-43d59b5ea971"
      },
      "outputs": [
        {
          "output_type": "execute_result",
          "data": {
            "text/plain": [
              "False"
            ]
          },
          "metadata": {},
          "execution_count": 16
        }
      ],
      "source": [
        "income = 400\n",
        "age < 30 or income > 500 # age が 30 より小さい、または income が 500 より大きい"
      ]
    },
    {
      "cell_type": "code",
      "execution_count": 17,
      "metadata": {
        "colab": {
          "base_uri": "https://localhost:8080/"
        },
        "id": "X3aLsfCRwJ05",
        "outputId": "f4142fbc-5f9f-4dc7-8d59-37719eab33bc"
      },
      "outputs": [
        {
          "output_type": "execute_result",
          "data": {
            "text/plain": [
              "True"
            ]
          },
          "metadata": {},
          "execution_count": 17
        }
      ],
      "source": [
        "country = \"japan\"\n",
        "work = False\n",
        "\n",
        "not (work is True and country == \"japan\") # work が True または country が japan ではない"
      ]
    },
    {
      "cell_type": "markdown",
      "metadata": {
        "id": "YdCvSOz6wJ05"
      },
      "source": [
        "`True`, `False`, `None` かどうかを評価するときは、`==` ではなく `is` を用います。"
      ]
    },
    {
      "cell_type": "markdown",
      "metadata": {
        "id": "cQ0dSh4BwJ05"
      },
      "source": [
        "## やってみよう\n",
        "\n",
        "ある商品の価格 `price` と在庫数 `stock` に基づいて、割引が適用されるかどうかを判断するプログラムを書いてください。\n",
        "\n",
        "具体的には、価格が 1000 円以上、かつ在庫が 50 以上の場合には 「割引適用」と出力し、それ以外の場合は「割引適用外」と出力します。\n",
        "\n",
        "以下の価格と在庫数の組で、正しく実行されるかどうか確かめてください。\n",
        "\n",
        "- 価格: 1500 円、在庫: 100 個 (A: 割引適用)\n",
        "- 価格: 500 円、在庫: 100 個 (A: 割引適用外)\n",
        "- 価格: 200 円、在庫: 40 個 (A: 割引適用外)"
      ]
    },
    {
      "cell_type": "markdown",
      "metadata": {
        "id": "svWP-QF_Cnkt"
      },
      "source": [
        "## 条件式での真偽値以外の評価\n",
        "\n",
        "`a > 3` や `b == \"japan\"` などは全て `True` か `False` の真偽値 (ブール型: bool type) です。\n",
        "\n",
        "しかし、条件式には `3` や `\"japan\"`、`[5]` などを入れてもエラーにはなりません。\n",
        "\n",
        "実際に試してみましょう。"
      ]
    },
    {
      "cell_type": "code",
      "execution_count": 18,
      "metadata": {
        "id": "WbByNTftCnku",
        "outputId": "4006dc64-9cff-4f74-e98a-5e96c3847782",
        "colab": {
          "base_uri": "https://localhost:8080/"
        }
      },
      "outputs": [
        {
          "output_type": "stream",
          "name": "stdout",
          "text": [
            "5 is True\n"
          ]
        }
      ],
      "source": [
        "if 5:\n",
        "    print(\"5 is True\")\n",
        "else:\n",
        "    print(\"5 is False\")"
      ]
    },
    {
      "cell_type": "code",
      "execution_count": 19,
      "metadata": {
        "id": "ge4gDs8RCnku",
        "outputId": "9ead6249-5a91-4040-d2c4-fdf7cd8f3db8",
        "colab": {
          "base_uri": "https://localhost:8080/"
        }
      },
      "outputs": [
        {
          "output_type": "stream",
          "name": "stdout",
          "text": [
            "0 is False\n"
          ]
        }
      ],
      "source": [
        "if 0:\n",
        "    print(\"0 is True\")\n",
        "else:\n",
        "    print(\"0 is False\")"
      ]
    },
    {
      "cell_type": "code",
      "execution_count": 20,
      "metadata": {
        "id": "fErUJnrZCnku",
        "outputId": "2e4d15ca-613d-4e42-dfc7-1227b06dbb4f",
        "colab": {
          "base_uri": "https://localhost:8080/"
        }
      },
      "outputs": [
        {
          "output_type": "stream",
          "name": "stdout",
          "text": [
            "[] is False\n"
          ]
        }
      ],
      "source": [
        "if []:\n",
        "    print(\"[] is True\")\n",
        "else:\n",
        "    print(\"[] is False\")"
      ]
    },
    {
      "cell_type": "markdown",
      "metadata": {
        "id": "Yiegk757Cnkv"
      },
      "source": [
        "整数型では 0 は False, それ以外は True として扱われます。\n",
        "\n",
        "また、文字列型では空文字 (`\"\"`) は False でそれ以外は True です。\n",
        "\n",
        "何も入っていないリストやタプル、辞書は False でそれ以外は True として扱われます。\n",
        "\n",
        "`bool` 関数を使うことで、これらが条件式ではどう評価されるかを確かめることができます。"
      ]
    },
    {
      "cell_type": "code",
      "execution_count": 21,
      "metadata": {
        "id": "hPPAyv2dCnkv",
        "outputId": "5d1a6c05-5b96-4495-899d-4030b2460f21",
        "colab": {
          "base_uri": "https://localhost:8080/"
        }
      },
      "outputs": [
        {
          "output_type": "execute_result",
          "data": {
            "text/plain": [
              "False"
            ]
          },
          "metadata": {},
          "execution_count": 21
        }
      ],
      "source": [
        "bool(\"\")"
      ]
    }
  ],
  "metadata": {
    "colab": {
      "provenance": [],
      "include_colab_link": true
    },
    "kernelspec": {
      "display_name": "class-data-analysis-i-2025-py3.11",
      "language": "python",
      "name": "python3"
    },
    "language_info": {
      "codemirror_mode": {
        "name": "ipython",
        "version": 3
      },
      "file_extension": ".py",
      "mimetype": "text/x-python",
      "name": "python",
      "nbconvert_exporter": "python",
      "pygments_lexer": "ipython3",
      "version": "3.11.11"
    }
  },
  "nbformat": 4,
  "nbformat_minor": 0
}