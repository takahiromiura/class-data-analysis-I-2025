{
  "cells": [
    {
      "cell_type": "markdown",
      "metadata": {
        "id": "nJCiziqMeDN_"
      },
      "source": [
        "# オブジェクト\n",
        "\n",
        "ここでは、プログラミングにおいて頻発するオブジェクトという概念について学びます。\n",
        "\n",
        "少し難しい概念ですが、様々なドキュメントでこの用語が使われるので、その雰囲気だけでもつかんでください。\n",
        "\n",
        "また、属性・メソッドの使い方についても少し説明します。"
      ]
    },
    {
      "cell_type": "markdown",
      "metadata": {
        "id": "dX1KPk1FeDOA"
      },
      "source": [
        "## オブジェクトとは\n",
        "\n",
        "Python において、数値や、文字列、辞書、関数、その他、リストやクラスなど、これらをまとめて **オブジェクト** として扱います。\n",
        "\n",
        "すべてのオブジェクトは同一性、型、値をもっています。\n",
        "\n",
        "### 同一性\n",
        "\n",
        "同一性とは、そのオブジェクトが他のオブジェクトと区別可能であるということを表しています。\n",
        "\n",
        "Python では `id` 関数を用いてそのオブジェクトのアイデンティティ (整数) を取得することが可能です。"
      ]
    },
    {
      "cell_type": "code",
      "execution_count": 1,
      "metadata": {
        "colab": {
          "base_uri": "https://localhost:8080/"
        },
        "id": "JOC2nvI-eDOA",
        "outputId": "a150baf1-f10a-4552-e1d7-177bb4363b89"
      },
      "outputs": [
        {
          "data": {
            "text/plain": [
              "140428859883824"
            ]
          },
          "execution_count": 1,
          "metadata": {},
          "output_type": "execute_result"
        }
      ],
      "source": [
        "id(3)"
      ]
    },
    {
      "cell_type": "code",
      "execution_count": 2,
      "metadata": {
        "colab": {
          "base_uri": "https://localhost:8080/"
        },
        "id": "o0PrXfgjeDOA",
        "outputId": "81f3266e-6e17-438f-d08f-bc5b5a4f6446"
      },
      "outputs": [
        {
          "data": {
            "text/plain": [
              "140428853143344"
            ]
          },
          "execution_count": 2,
          "metadata": {},
          "output_type": "execute_result"
        }
      ],
      "source": [
        "id(\"japan\")"
      ]
    },
    {
      "cell_type": "markdown",
      "metadata": {
        "id": "8plv31C2eDOB"
      },
      "source": [
        " ### 型 (クラス)\n",
        "\n",
        "\n",
        "\n",
        " 型 (またはクラス) とは、オブジェクトの種類を指します。\n",
        "\n",
        "\n",
        "\n",
        " 例えば、今まで用いてきた `3`、`4` などの整数は整数 (`int`) 型に分類されます。\n",
        "\n",
        "\n",
        "\n",
        " `3.14` などの小数点は小数点 (`float`) 型です。\n",
        "\n",
        "\n",
        "\n",
        " 整数型、小数点型などをまとめて数値型とも呼びます。\n",
        "\n",
        "\n",
        "\n",
        " `\"japan\"` などの文字列は文字列 (`str`) 型です。\n",
        "\n",
        "\n",
        "\n",
        " 辞書は辞書 (`dict`) 型に属します。\n",
        "\n",
        "\n",
        "\n",
        " オブジェクトの型は `type` 関数によって調べることができます。\n",
        "\n"
      ]
    },
    {
      "cell_type": "code",
      "execution_count": 3,
      "metadata": {
        "colab": {
          "base_uri": "https://localhost:8080/"
        },
        "id": "G4cs-AjyeDOB",
        "outputId": "ef8b468e-7ccf-4bc3-9401-de121ddd0580"
      },
      "outputs": [
        {
          "data": {
            "text/plain": [
              "int"
            ]
          },
          "execution_count": 3,
          "metadata": {},
          "output_type": "execute_result"
        }
      ],
      "source": [
        "type(3)"
      ]
    },
    {
      "cell_type": "code",
      "execution_count": 4,
      "metadata": {
        "colab": {
          "base_uri": "https://localhost:8080/"
        },
        "id": "ZbsZOWiKeDOB",
        "outputId": "b589cf10-30dd-4cdf-d30f-575d75b9bc2b"
      },
      "outputs": [
        {
          "data": {
            "text/plain": [
              "float"
            ]
          },
          "execution_count": 4,
          "metadata": {},
          "output_type": "execute_result"
        }
      ],
      "source": [
        "type(3.14)"
      ]
    },
    {
      "cell_type": "code",
      "execution_count": 5,
      "metadata": {
        "colab": {
          "base_uri": "https://localhost:8080/"
        },
        "id": "Ob9F8r1SeDOB",
        "outputId": "a9bf4c54-2271-4a30-afae-9a6c8e10620e"
      },
      "outputs": [
        {
          "data": {
            "text/plain": [
              "str"
            ]
          },
          "execution_count": 5,
          "metadata": {},
          "output_type": "execute_result"
        }
      ],
      "source": [
        "type(\"japan\")"
      ]
    },
    {
      "cell_type": "markdown",
      "metadata": {
        "id": "9e1Afdv3eDOB"
      },
      "source": [
        " ### 値\n",
        "\n",
        "\n",
        "\n",
        " 値は、そのオブジェクトが持つ情報で、整数オブジェクトならその値です。\n",
        "\n",
        "\n",
        "\n",
        " 例えば、`3` の値は 3、`japan` の値は japan です。\n",
        "\n",
        "\n",
        "\n",
        " 辞書型では、キーと値のペアの集まりが、その辞書型オブジェクトの持つ値です。"
      ]
    },
    {
      "cell_type": "markdown",
      "metadata": {
        "id": "u6dY1lZ5eDOB"
      },
      "source": [
        "## 属性・メソッド\n",
        "\n",
        "オブジェクトの型によって、保持している状態を表す変数や用いることができる関数などがあります。\n",
        "\n",
        "変数のことを **属性** (attribute) 、関数のことを **メソッド** (method) といいます。\n",
        "\n",
        "これらを参照するには、オブジェクトの後に `.` をつけて、その後に属性名、メソッドを続けます。\n",
        "\n",
        "例えば、文字列 (`str`) 型には、文字を大文字にする `upper` や逆に小文字にする `lower` メソッドなどがあります。\n",
        "\n",
        "単語の先頭の文字のみを大文字にする `title` メソッドというのもあります。"
      ]
    },
    {
      "cell_type": "code",
      "execution_count": 6,
      "metadata": {
        "colab": {
          "base_uri": "https://localhost:8080/",
          "height": 36
        },
        "id": "TjRAPACveDOB",
        "outputId": "cfb4d823-9d38-407e-b351-fa6bb3a99b26"
      },
      "outputs": [
        {
          "data": {
            "application/vnd.google.colaboratory.intrinsic+json": {
              "type": "string"
            },
            "text/plain": [
              "'JAPAN'"
            ]
          },
          "execution_count": 6,
          "metadata": {},
          "output_type": "execute_result"
        }
      ],
      "source": [
        "\"japan\".upper()"
      ]
    },
    {
      "cell_type": "code",
      "execution_count": 7,
      "metadata": {
        "colab": {
          "base_uri": "https://localhost:8080/",
          "height": 36
        },
        "id": "c3RLkvKPeDOC",
        "outputId": "e3a423bc-7210-4dae-eb06-2c280284decb"
      },
      "outputs": [
        {
          "data": {
            "application/vnd.google.colaboratory.intrinsic+json": {
              "type": "string"
            },
            "text/plain": [
              "'hello!'"
            ]
          },
          "execution_count": 7,
          "metadata": {},
          "output_type": "execute_result"
        }
      ],
      "source": [
        "\"Hello!\".lower()"
      ]
    },
    {
      "cell_type": "code",
      "execution_count": 8,
      "metadata": {
        "colab": {
          "base_uri": "https://localhost:8080/",
          "height": 36
        },
        "id": "-kfzhtaOeDOC",
        "outputId": "56bd55db-897c-4ce4-e60f-154b7c04f785"
      },
      "outputs": [
        {
          "data": {
            "application/vnd.google.colaboratory.intrinsic+json": {
              "type": "string"
            },
            "text/plain": [
              "'This Is A Pen'"
            ]
          },
          "execution_count": 8,
          "metadata": {},
          "output_type": "execute_result"
        }
      ],
      "source": [
        "\"this is a pen\".title()"
      ]
    },
    {
      "cell_type": "markdown",
      "metadata": {},
      "source": [
        "### 補足説明: 日本語の大文字・小文字の扱い\n",
        "\n",
        "なお、日本語では大文字・小文字の対応はありません。\n",
        "\n",
        "「や」と「ゃ」は別の文字として扱われています。"
      ]
    },
    {
      "cell_type": "markdown",
      "metadata": {},
      "source": [
        "### メソッドと関数の使い方\n",
        "\n",
        "メソッドの使い方は、関数とほとんど同じです。\n",
        "\n",
        "つまり、メソッドを実行するには `()` を使います。\n",
        "\n",
        "メソッドの種類によっては、引数が必要です。\n",
        "\n",
        "例えば、リストの最後に要素を追加する `append` メソッドには、追加する値を引数として指定します。\n",
        "\n",
        "リストにリストを追加する `extend` メソッドでは、追加するリストを引数として指定します。"
      ]
    },
    {
      "cell_type": "code",
      "execution_count": null,
      "metadata": {},
      "outputs": [],
      "source": [
        "my_list = [1, 2, 3]\n",
        "my_list"
      ]
    },
    {
      "cell_type": "code",
      "execution_count": null,
      "metadata": {},
      "outputs": [],
      "source": [
        "my_list.append(4)\n",
        "my_list"
      ]
    },
    {
      "cell_type": "code",
      "execution_count": null,
      "metadata": {},
      "outputs": [],
      "source": [
        "my_list.extend([5, 6, 7])\n",
        "my_list"
      ]
    },
    {
      "cell_type": "markdown",
      "metadata": {},
      "source": [
        "## 破壊的・非破壊的メソッド\n",
        "\n",
        "`append`, `extend` メソッドは、`upper`, `lower` メソッドとは実は少し異なる点があります。\n",
        "\n",
        "これを見るために、文字列の変数を定義して、`upper` メソッドを実行する前と後でオブジェクトの値を確認してみます。"
      ]
    },
    {
      "cell_type": "code",
      "execution_count": null,
      "metadata": {},
      "outputs": [],
      "source": [
        "prefecture = \"wakayama\"\n",
        "print(prefecture) # メソッド実行前\n",
        "print(prefecture.upper())\n",
        "print(prefecture) # メソッド実行後"
      ]
    },
    {
      "cell_type": "markdown",
      "metadata": {},
      "source": [
        "`prefecture` オブジェクトの値は、メソッドの実行前と後で同じままです。\n",
        "\n",
        "次に、再度 `append` メソッドを実行して、その挙動を確認してみます。"
      ]
    },
    {
      "cell_type": "code",
      "execution_count": null,
      "metadata": {},
      "outputs": [],
      "source": [
        "my_list = [1, 2, 3]\n",
        "print(my_list) # メソッド実行前\n",
        "my_list.append(4)"
      ]
    },
    {
      "cell_type": "code",
      "execution_count": null,
      "metadata": {},
      "outputs": [],
      "source": [
        "my_list # メソッド実行後"
      ]
    },
    {
      "cell_type": "markdown",
      "metadata": {},
      "source": [
        "2 つの違いがあります。\n",
        "\n",
        "1 つは、`append` メソッドは `upper` メソッドとは異なり、実行しても値が返ってきていません (正確には `None` が返っている)。\n",
        "\n",
        "もう 1 つは、`append` メソッドは、メソッドを実行した元のオブジェクトの値を変更しています。\n",
        "\n",
        "元のオブジェクト自体を変更するメソッドを破壊的メソッド、そうでないものを非破壊的メソッドといいます。\n",
        "\n",
        "基本的には、非破壊的メソッドは実行すると値を返し、破壊的メソッドは値を返さないように設計されます。\n",
        "\n",
        "また、`inplace` オプション (引数) でメソッドを破壊的にするか非破壊的にするか切り替えれるように作られていることもあります。\n",
        "\n",
        "(例: [`pandas` の `rename` メソッド](https://pandas.pydata.org/docs/reference/api/pandas.DataFrame.rename.html))"
      ]
    },
    {
      "cell_type": "markdown",
      "metadata": {
        "id": "E25OKNdGeDOC"
      },
      "source": [
        " オブジェクトにどのような属性・メソッドが備わっているかは、`dir` 関数によって調べることができます。\n",
        "\n",
        "\n",
        "\n",
        " 各メソッドや属性の内容を覚える必要はありませんが、どういったことができるかを知っておくと、困ったときに役立ちます。\n",
        "\n",
        "\n",
        "\n",
        " 多くの場合、属性やメソッドに関するドキュメントが用意されており、google 検索などで調べることが可能です\n",
        "\n",
        "\n",
        "\n",
        " (例: [`str` 型に関する説明ページ](https://docs.python.org/ja/3.11/library/stdtypes.html#string-methods))。\n",
        "\n"
      ]
    },
    {
      "cell_type": "code",
      "execution_count": null,
      "metadata": {
        "colab": {
          "base_uri": "https://localhost:8080/"
        },
        "id": "hslwBOMIeDOC",
        "outputId": "8b20c381-35db-4b2c-c9b4-d0712ac46cd1"
      },
      "outputs": [
        {
          "data": {
            "text/plain": [
              "['__add__',\n",
              " '__class__',\n",
              " '__contains__',\n",
              " '__delattr__',\n",
              " '__dir__',\n",
              " '__doc__',\n",
              " '__eq__',\n",
              " '__format__',\n",
              " '__ge__',\n",
              " '__getattribute__',\n",
              " '__getitem__',\n",
              " '__getnewargs__',\n",
              " '__gt__',\n",
              " '__hash__',\n",
              " '__init__',\n",
              " '__init_subclass__',\n",
              " '__iter__',\n",
              " '__le__',\n",
              " '__len__',\n",
              " '__lt__',\n",
              " '__mod__',\n",
              " '__mul__',\n",
              " '__ne__',\n",
              " '__new__',\n",
              " '__reduce__',\n",
              " '__reduce_ex__',\n",
              " '__repr__',\n",
              " '__rmod__',\n",
              " '__rmul__',\n",
              " '__setattr__',\n",
              " '__sizeof__',\n",
              " '__str__',\n",
              " '__subclasshook__',\n",
              " 'capitalize',\n",
              " 'casefold',\n",
              " 'center',\n",
              " 'count',\n",
              " 'encode',\n",
              " 'endswith',\n",
              " 'expandtabs',\n",
              " 'find',\n",
              " 'format',\n",
              " 'format_map',\n",
              " 'index',\n",
              " 'isalnum',\n",
              " 'isalpha',\n",
              " 'isascii',\n",
              " 'isdecimal',\n",
              " 'isdigit',\n",
              " 'isidentifier',\n",
              " 'islower',\n",
              " 'isnumeric',\n",
              " 'isprintable',\n",
              " 'isspace',\n",
              " 'istitle',\n",
              " 'isupper',\n",
              " 'join',\n",
              " 'ljust',\n",
              " 'lower',\n",
              " 'lstrip',\n",
              " 'maketrans',\n",
              " 'partition',\n",
              " 'removeprefix',\n",
              " 'removesuffix',\n",
              " 'replace',\n",
              " 'rfind',\n",
              " 'rindex',\n",
              " 'rjust',\n",
              " 'rpartition',\n",
              " 'rsplit',\n",
              " 'rstrip',\n",
              " 'split',\n",
              " 'splitlines',\n",
              " 'startswith',\n",
              " 'strip',\n",
              " 'swapcase',\n",
              " 'title',\n",
              " 'translate',\n",
              " 'upper',\n",
              " 'zfill']"
            ]
          },
          "execution_count": 9,
          "metadata": {},
          "output_type": "execute_result"
        }
      ],
      "source": [
        "dir(\"japan\")"
      ]
    }
  ],
  "metadata": {
    "colab": {
      "include_colab_link": true,
      "provenance": []
    },
    "kernelspec": {
      "display_name": "Python 3",
      "name": "python3"
    },
    "language_info": {
      "name": "python"
    }
  },
  "nbformat": 4,
  "nbformat_minor": 0
}
