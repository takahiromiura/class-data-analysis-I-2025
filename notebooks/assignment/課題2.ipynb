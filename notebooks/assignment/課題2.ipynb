{
  "cells": [
    {
      "cell_type": "markdown",
      "metadata": {
        "id": "view-in-github",
        "colab_type": "text"
      },
      "source": [
        "<a href=\"https://colab.research.google.com/github/takahiromiura/class-data-analysis-I-2025/blob/main/notebooks/assignment/%E8%AA%B2%E9%A1%8C2.ipynb\" target=\"_parent\"><img src=\"https://colab.research.google.com/assets/colab-badge.svg\" alt=\"Open In Colab\"/></a>"
      ]
    },
    {
      "cell_type": "markdown",
      "id": "6f5cf813",
      "metadata": {
        "id": "6f5cf813"
      },
      "source": [
        "# 課題に関する注意\n",
        "\n",
        "- 元のセルは削除しないでください\n",
        "- 左上に `ファイル 編集` などが表示されていない場合、ヘッダーを表示する必要があります。 画面右上の下向きのアイコンを押すと、ヘッダーが表示されます。 非表示にするには上向きのアイコンを押します。\n",
        "- 提出用のファイルは、`ファイル -> ダウンロード -> .ipynb をダウンロード` でダウンロードします (.py ファイルではありません)。\n",
        "- ファイル提出前に `ランタイム -> セッションを再起動して全て実行する` を行い、結果を保存したものを提出してください。\n",
        "- 最後まで実行できないファイルは評価対象外です。"
      ]
    },
    {
      "cell_type": "markdown",
      "id": "cf3621b4",
      "metadata": {
        "id": "cf3621b4"
      },
      "source": [
        "# 課題 2\n",
        "\n",
        "以下の問題に対して、次の 2 つを行ってください。\n",
        "\n",
        "1. 問題を解決するための手順 (アルゴリズム) を説明してください。\n",
        "2. 1 で説明したアルゴリズムをコードで実装してください。\n",
        "\n",
        "問題はループ処理を使って解いてください。"
      ]
    },
    {
      "cell_type": "markdown",
      "id": "7a6b16e3",
      "metadata": {
        "id": "7a6b16e3"
      },
      "source": [
        "## 例題\n",
        "\n",
        "オフィス街を巡回する フードトラック が 1 週間営業し，毎日の売上データを次のリストに記録しました。\n",
        "\n",
        "各要素は辞書で，日付・来客数・売上額（円）・曜日 を持ちます。\n",
        "\n",
        "ここから、平日 (月 ~ 金) と週末 (土・日) に分けて、それぞれの平均売上額を計算してください。\n",
        "\n",
        "平日の平均売上額を `weekday_avg`、週末の平均売上額を `weekend_avg` という変数に格納し、結果を表示してください。"
      ]
    },
    {
      "cell_type": "code",
      "execution_count": null,
      "id": "14c8602f",
      "metadata": {
        "id": "14c8602f"
      },
      "outputs": [],
      "source": [
        "weekly_sales = [\n",
        "    {\"date\": \"2025-06-02\", \"customers\":  88, \"sales\": 11500, \"weekday\": \"Mon\"},\n",
        "    {\"date\": \"2025-06-03\", \"customers\": 102, \"sales\": 12800, \"weekday\": \"Tue\"},\n",
        "    {\"date\": \"2025-06-04\", \"customers\":  97, \"sales\": 13100, \"weekday\": \"Wed\"},\n",
        "    {\"date\": \"2025-06-05\", \"customers\": 110, \"sales\": 14000, \"weekday\": \"Thu\"},\n",
        "    {\"date\": \"2025-06-06\", \"customers\":  95, \"sales\": 12000, \"weekday\": \"Fri\"},\n",
        "    {\"date\": \"2025-06-07\", \"customers\": 150, \"sales\": 22000, \"weekday\": \"Sat\"},\n",
        "    {\"date\": \"2025-06-08\", \"customers\": 165, \"sales\": 24000, \"weekday\": \"Sun\"},\n",
        "]"
      ]
    },
    {
      "cell_type": "markdown",
      "id": "80e34c56",
      "metadata": {
        "id": "80e34c56"
      },
      "source": [
        "### 答え\n",
        "\n",
        "#### アルゴリズム\n",
        "\n",
        "- 平日の合計売上数 `weekday_total`、週末の合計売上数 `weekend_total` を定義する (値は 0 )。\n",
        "- `weekly_sales` から順に日毎のデータを取り出し、次の処理を行う。\n",
        "  - データの曜日が `\"Sat\"` または `\"Sun\"` であれば、`weekend_total` に `sales` の値を追加する。\n",
        "  - それ以外の曜日であれば、`weeekday_total` に `sales` の値を追加する。\n",
        "- 全ての要素で上記の処理を終えたら、ループ処理を終了する。\n",
        "- その後に、`weekday_total` を平日の日数 (`5`) で割って、平均売上額 `weekday_avg` を計算する。\n",
        "- 同様に、`weekend_total` を週末の日数 (`2`) で割って、平均売上額 `weekend_avg` を計算する。"
      ]
    },
    {
      "cell_type": "code",
      "execution_count": null,
      "id": "b8f2dda3",
      "metadata": {
        "id": "b8f2dda3",
        "outputId": "31f07bf0-7c1d-4eee-9651-12a7b6bb079c"
      },
      "outputs": [
        {
          "name": "stdout",
          "output_type": "stream",
          "text": [
            "12680.0\n",
            "23000.0\n"
          ]
        }
      ],
      "source": [
        "# アルゴリズムの実装\n",
        "\n",
        "weekday_total = 0\n",
        "weekend_total = 0\n",
        "\n",
        "for daily_sale in weekly_sales:\n",
        "    if daily_sale[\"weekday\"] in [\"Sat\", \"Sun\"]:\n",
        "        weekend_total += daily_sale[\"sales\"]\n",
        "    else:\n",
        "        weekday_total += daily_sale[\"sales\"]\n",
        "\n",
        "weekday_avg = weekday_total / 5\n",
        "weekend_avg = weekend_total / 2\n",
        "print(weekday_avg)\n",
        "print(weekend_avg)"
      ]
    },
    {
      "cell_type": "markdown",
      "id": "fd5ba8db",
      "metadata": {
        "id": "fd5ba8db"
      },
      "source": [
        "### 誤った回答\n",
        "\n",
        "次のような解答でも求める解は得られますが、ループ処理を使っていないので誤りです。"
      ]
    },
    {
      "cell_type": "code",
      "execution_count": null,
      "id": "c825a0e1",
      "metadata": {
        "id": "c825a0e1"
      },
      "outputs": [],
      "source": [
        "weekday_total = 0\n",
        "weekend_total = 0\n",
        "\n",
        "if weekly_sales[0][\"weekday\"] in [\"Sat\", \"Sun\"]:\n",
        "    weekend_total += weekly_sales[0][\"sales\"]\n",
        "\n",
        "else:\n",
        "    weekday_total += weekly_sales[0][\"sales\"]\n",
        "\n",
        "if weekly_sales[1][\"weekday\"] in [\"Sat\", \"Sun\"]:\n",
        "    weekend_total += weekly_sales[1][\"sales\"]\n",
        "\n",
        "else:\n",
        "    weekday_total += weekly_sales[1][\"sales\"]\n",
        "\n",
        "# 以下省略"
      ]
    },
    {
      "cell_type": "markdown",
      "id": "6ec6de76",
      "metadata": {
        "id": "6ec6de76"
      },
      "source": [
        "## 問 1\n",
        "\n",
        "- あなたはフィットネスアプリの開発チームにインターンとして参加しています。\n",
        "- アプリには 1 分ごとの心拍数 (bpm) がリストで記録されています。\n",
        "- 心拍数が 100 bpm を超えた瞬間 に運動開始とみなし、再び 100 bpm 以下になった瞬間に運動終了とみなします。\n",
        "- 以下のデータから、運動していた区間の平均心拍数を計算し、変数 `exercise_avg_bpm` に値を格納し、結果を出力してください。\n",
        "- なお、100 bpm 以下になった時点のデータは運動時間に含みません。"
      ]
    },
    {
      "cell_type": "code",
      "execution_count": null,
      "id": "8604d2f9",
      "metadata": {
        "id": "8604d2f9"
      },
      "outputs": [],
      "source": [
        "beats = [72, 78, 85, 92, 97, 99,\n",
        "         104, 112, 125, 138, 140, 137, 130, 120,\n",
        "         105, 100, 95, 90, 82, 76]"
      ]
    },
    {
      "cell_type": "markdown",
      "id": "e39595d8",
      "metadata": {
        "id": "e39595d8"
      },
      "source": [
        "### 問 1 のアルゴリズム"
      ]
    },
    {
      "cell_type": "code",
      "execution_count": null,
      "id": "5b818506",
      "metadata": {
        "id": "5b818506"
      },
      "outputs": [],
      "source": [
        "# 問 1 の実装コード"
      ]
    },
    {
      "cell_type": "markdown",
      "id": "46ef0814",
      "metadata": {
        "id": "46ef0814"
      },
      "source": [
        "## 問 2\n",
        "\n",
        "- あなたは高校の国語教師です。\n",
        "- 中間試験の点数がリストに記録されています。\n",
        "- 以下の基準に従って、点数を分類してください。\n",
        "  - 落第: 30 点未満\n",
        "  - 再試験: 30 点以上 40 点未満\n",
        "  - 合格: 40 点以上\n",
        "- 落第者数 (`fail_count`)、再試験者数 (`retake_count`)、合格者数 (`pass_count`) を変数に格納し、結果を出力してください。"
      ]
    },
    {
      "cell_type": "code",
      "execution_count": null,
      "id": "04dfa03d",
      "metadata": {
        "id": "04dfa03d"
      },
      "outputs": [],
      "source": [
        "scores = [\n",
        "    28, 47, 62, 90, 30, 59, 12, 75, 33, 88,\n",
        "    55, 41, 27, 34, 60, 77, 25, 94, 38, 69,\n",
        "    45, 52, 31, 29, 83, 37, 68, 40, 58, 99\n",
        "]"
      ]
    },
    {
      "cell_type": "markdown",
      "id": "55607931",
      "metadata": {
        "id": "55607931"
      },
      "source": [
        "### 問 2 のアルゴリズム"
      ]
    },
    {
      "cell_type": "code",
      "execution_count": null,
      "id": "e98cc97c",
      "metadata": {
        "id": "e98cc97c"
      },
      "outputs": [],
      "source": [
        "# 問 2 の実装コード"
      ]
    },
    {
      "cell_type": "markdown",
      "id": "76bcf5ae",
      "metadata": {
        "id": "76bcf5ae"
      },
      "source": [
        "## 問 3\n",
        "\n",
        "- スマホゲームの 10 連ガチャには 3,000 クリスタル 必要です。\n",
        "- 毎日もらえるクリスタル数は既に決まっており，リストで与えられます。\n",
        "- 1 日ずつクリスタルを加算し，合計が 3,000 を超えるまで同じ処理を繰り返してください。\n",
        "- 3,000 を超えた時点で、それまでにかかった日数 (5 日かかったら 5 とする) を `days`、その時点でのクリスタル数 `total` を変数に格納し、結果を出力してください。"
      ]
    },
    {
      "cell_type": "code",
      "execution_count": null,
      "id": "6193022f",
      "metadata": {
        "id": "6193022f"
      },
      "outputs": [],
      "source": [
        "daily_get = [\n",
        "    120, 250, 180, 300, 150, 200, 100, 400,  90, 220,\n",
        "    160, 310, 140, 280, 190, 330, 130, 260, 170, 350\n",
        "]"
      ]
    },
    {
      "cell_type": "markdown",
      "id": "a7a31610",
      "metadata": {
        "id": "a7a31610"
      },
      "source": [
        "### 問 3 のアルゴリズム"
      ]
    },
    {
      "cell_type": "code",
      "execution_count": null,
      "id": "e53afe05",
      "metadata": {
        "id": "e53afe05"
      },
      "outputs": [],
      "source": [
        "# 問 3 のコード"
      ]
    }
  ],
  "metadata": {
    "kernelspec": {
      "display_name": ".venv",
      "language": "python",
      "name": "python3"
    },
    "language_info": {
      "codemirror_mode": {
        "name": "ipython",
        "version": 3
      },
      "file_extension": ".py",
      "mimetype": "text/x-python",
      "name": "python",
      "nbconvert_exporter": "python",
      "pygments_lexer": "ipython3",
      "version": "3.11.11"
    },
    "colab": {
      "provenance": [],
      "include_colab_link": true
    }
  },
  "nbformat": 4,
  "nbformat_minor": 5
}