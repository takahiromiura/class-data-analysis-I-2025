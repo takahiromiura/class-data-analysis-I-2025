{
  "cells": [
    {
      "cell_type": "markdown",
      "metadata": {
        "id": "view-in-github",
        "colab_type": "text"
      },
      "source": [
        "<a href=\"https://colab.research.google.com/github/takahiromiura/class-data-analysis-I-2025/blob/main/notebooks/assignment/%E6%9C%80%E7%B5%82%E8%AA%B2%E9%A1%8C.ipynb\" target=\"_parent\"><img src=\"https://colab.research.google.com/assets/colab-badge.svg\" alt=\"Open In Colab\"/></a>"
      ]
    },
    {
      "cell_type": "markdown",
      "metadata": {
        "id": "vLBBHjjjnzYw"
      },
      "source": [
        "# 最終課題に関する注意\n",
        "\n",
        "- 元のセルは削除しないでください\n",
        "- 左上に `ファイル 編集` などが表示されていない場合、ヘッダーを表示する必要があります。 画面右上の下向きのアイコンを押すと、ヘッダーが表示されます。 非表示にするには上向きのアイコンを押します。\n",
        "- 提出用のファイルは、`ファイル -> ダウンロード -> .ipynb をダウンロード` でダウンロードします (.py ファイルではありません)。\n",
        "- ファイル提出前に `ランタイム -> セッションを再起動して全て実行する` を行い、結果を保存したものを提出してください。\n",
        "- 問題に関係のないコードが含まれている場合、減点対象になります。\n",
        "- あまりにも長いコードや難解なものは減点対象です。ループ処理や関数・クラスなどを用いて簡略化するようにしてください。\n",
        "- 最後まで実行できないファイルは評価対象外です。\n",
        "\n",
        "- `import` やライブラリのインストールをする場合は、下記のコードセル内に記述してください。"
      ]
    },
    {
      "cell_type": "code",
      "execution_count": 1,
      "metadata": {
        "id": "nGX3v6ADnzYz"
      },
      "outputs": [],
      "source": [
        "# import やライブラリのインストールはこの中に記述"
      ]
    },
    {
      "cell_type": "markdown",
      "metadata": {
        "id": "UVzz7AeZTGJI"
      },
      "source": [
        "## 例題\n",
        "\n",
        "以下の `example_data` の要素の合計値を出力してください。"
      ]
    },
    {
      "cell_type": "code",
      "execution_count": 2,
      "metadata": {
        "id": "CWeRbzNyTGJI"
      },
      "outputs": [],
      "source": [
        "example_data = [10, 50, 300, 200, 5]"
      ]
    },
    {
      "cell_type": "markdown",
      "metadata": {
        "id": "M6tyLj1uTGJI"
      },
      "source": [
        "### 良くない解答例 1\n",
        "\n",
        "以下のように、関係ないものも出力内容に含まれているような解答は減点対象です。"
      ]
    },
    {
      "cell_type": "code",
      "execution_count": 3,
      "metadata": {
        "id": "vh2DNQ-NTGJI",
        "outputId": "eed71e02-4de3-4f82-bd98-7f499318e2c9",
        "colab": {
          "base_uri": "https://localhost:8080/"
        }
      },
      "outputs": [
        {
          "output_type": "stream",
          "name": "stdout",
          "text": [
            "10\n",
            "60\n",
            "360\n",
            "560\n",
            "565\n"
          ]
        }
      ],
      "source": [
        "total = 0\n",
        "for i in example_data:\n",
        "    total += i\n",
        "    print(total)"
      ]
    },
    {
      "cell_type": "markdown",
      "metadata": {
        "id": "_SMoLFXCTGJJ"
      },
      "source": [
        "### 良くない解答例 2\n",
        "\n",
        "以下のように、ループや関数を使って繰り返しを省略できるものを、無駄に長く書いているものも減点対象になります。"
      ]
    },
    {
      "cell_type": "code",
      "execution_count": 4,
      "metadata": {
        "id": "fM-R9E9UTGJJ",
        "outputId": "476393a1-ec7f-423b-aeb0-4932177037ba",
        "colab": {
          "base_uri": "https://localhost:8080/"
        }
      },
      "outputs": [
        {
          "output_type": "stream",
          "name": "stdout",
          "text": [
            "565\n"
          ]
        }
      ],
      "source": [
        "total = 0\n",
        "total += example_data[0]\n",
        "total += example_data[1]\n",
        "total += example_data[2]\n",
        "total += example_data[3]\n",
        "total += example_data[4]\n",
        "\n",
        "print(total)"
      ]
    },
    {
      "cell_type": "markdown",
      "metadata": {
        "id": "cRjQEWlpTGJJ"
      },
      "source": [
        "### 良くない解答例 3\n",
        "\n",
        "「出力してください。」と書いてある場合は、結果を出力してください。\n",
        "\n",
        "出力していない場合は減点対象です。"
      ]
    },
    {
      "cell_type": "code",
      "execution_count": 5,
      "metadata": {
        "id": "fFPQ9cQsTGJJ"
      },
      "outputs": [],
      "source": [
        "total = sum(example_data)"
      ]
    },
    {
      "cell_type": "markdown",
      "metadata": {
        "id": "RMHyVI6hTGJJ"
      },
      "source": [
        "### 良い解答例 1\n",
        "\n",
        "コードも答えも簡潔に書く用にしてください。\n",
        "\n",
        "場合によっては、以下のように `f-string` 記法などを使って、何の値かを説明するようにしてください。"
      ]
    },
    {
      "cell_type": "code",
      "execution_count": 6,
      "metadata": {
        "id": "74Dd5LgRTGJK",
        "outputId": "cf6f1f13-3504-4015-8bf2-8dcdc658a4af",
        "colab": {
          "base_uri": "https://localhost:8080/"
        }
      },
      "outputs": [
        {
          "output_type": "stream",
          "name": "stdout",
          "text": [
            "合計値は 565\n"
          ]
        }
      ],
      "source": [
        "total = 0\n",
        "for i in example_data:\n",
        "    total += i\n",
        "\n",
        "print(f\"合計値は {total}\")"
      ]
    },
    {
      "cell_type": "markdown",
      "metadata": {
        "id": "SobNW_hBTGJK"
      },
      "source": [
        "f-string 記法を使わない以下のような出力でも十分です。"
      ]
    },
    {
      "cell_type": "code",
      "execution_count": 7,
      "metadata": {
        "id": "2CLLQ89qTGJK",
        "outputId": "3f1a80e7-2322-4712-cc1e-c8ec82099282",
        "colab": {
          "base_uri": "https://localhost:8080/"
        }
      },
      "outputs": [
        {
          "output_type": "stream",
          "name": "stdout",
          "text": [
            "合計値:  565\n"
          ]
        }
      ],
      "source": [
        "print(\"合計値: \", total)"
      ]
    },
    {
      "cell_type": "markdown",
      "metadata": {
        "id": "0kQY4la0TGJK"
      },
      "source": [
        "### 良い解答例 2\n",
        "\n",
        "関数を使っても問題ありません。"
      ]
    },
    {
      "cell_type": "code",
      "execution_count": 8,
      "metadata": {
        "id": "2u6WqjH3TGJK",
        "outputId": "69f86747-ab55-49f9-fa1d-5d194cb6fa7c",
        "colab": {
          "base_uri": "https://localhost:8080/"
        }
      },
      "outputs": [
        {
          "output_type": "stream",
          "name": "stdout",
          "text": [
            "合計値: 565\n"
          ]
        }
      ],
      "source": [
        "total = sum(example_data)\n",
        "print(f\"合計値: {total}\")"
      ]
    },
    {
      "cell_type": "markdown",
      "metadata": {
        "id": "uzthbU_8nzYz"
      },
      "source": [
        "# 最終課題\n",
        "\n",
        "以下の `data` はソフトウェア開発のプラットフォーム、[GitHub](https://github.com/) で人気のレポジトリ (プロジェクト) をランダムに抽出したものです。\n",
        "\n",
        "このデータセットを分析して、以下の問題に答えてください。\n",
        "\n",
        "なお、各レポジトリにおけるキーとその値の説明は以下の通りです。\n",
        "\n",
        "- id: レポジトリ ID\n",
        "- repo_name: レポジトリの名前\n",
        "- created_at: レポジトリが作成された年月日\n",
        "- stars: お気に入り数\n",
        "- forks: レポジトリのコピー数\n",
        "- open_issues: 進行中の問題 (イシュー) 数\n",
        "- language: 主に使われているプログラミング言語"
      ]
    },
    {
      "cell_type": "code",
      "execution_count": 9,
      "metadata": {
        "id": "JYbtPPY8nzY0"
      },
      "outputs": [],
      "source": [
        "data = [{'id': 214587193, 'repo_name': 'supabase', 'created_at': '2019-10-12', 'stars': 85895, 'forks': 9256, 'open_issues': 726, 'language': 'TypeScript'}, {'id': 241576270, 'repo_name': 'fucking-algorithm', 'created_at': '2020-02-19', 'stars': 128628, 'forks': 23400, 'open_issues': 43, 'language': 'Markdown'}, {'id': 138393139, 'repo_name': 'the-book-of-secret-knowledge', 'created_at': '2018-06-23', 'stars': 179003, 'forks': 11160, 'open_issues': 99, 'language': None}, {'id': 614765452, 'repo_name': 'AutoGPT', 'created_at': '2023-03-16', 'stars': 177071, 'forks': 45895, 'open_issues': 197, 'language': 'Python'}, {'id': 177736533, 'repo_name': '996.ICU', 'created_at': '2019-03-26', 'stars': 273657, 'forks': 21084, 'open_issues': 16704, 'language': None}, {'id': 206462776, 'repo_name': 'GitHub-Chinese-Top-Charts', 'created_at': '2019-09-05', 'stars': 100478, 'forks': 13167, 'open_issues': 187, 'language': 'Java'}, {'id': 48378947, 'repo_name': 'frp', 'created_at': '2015-12-21', 'stars': 96381, 'forks': 14232, 'open_issues': 60, 'language': 'Go'}, {'id': 103633984, 'repo_name': 'nodebestpractices', 'created_at': '2017-09-15', 'stars': 103418, 'forks': 10502, 'open_issues': 81, 'language': 'Dockerfile'}, {'id': 576201, 'repo_name': 'three.js', 'created_at': '2010-03-23', 'stars': 107709, 'forks': 35904, 'open_issues': 577, 'language': 'JavaScript'}, {'id': 70107786, 'repo_name': 'next.js', 'created_at': '2016-10-05', 'stars': 133313, 'forks': 28884, 'open_issues': 3283, 'language': 'JavaScript'}, {'id': 23088740, 'repo_name': 'axios', 'created_at': '2014-08-18', 'stars': 107252, 'forks': 11172, 'open_issues': 687, 'language': 'JavaScript'}, {'id': 160919119, 'repo_name': 'fastapi', 'created_at': '2018-12-08', 'stars': 87481, 'forks': 7620, 'open_issues': 321, 'language': 'Python'}, {'id': 20929025, 'repo_name': 'TypeScript', 'created_at': '2014-06-17', 'stars': 105321, 'forks': 12924, 'open_issues': 6101, 'language': 'TypeScript'}, {'id': 88464704, 'repo_name': 'vue-element-admin', 'created_at': '2017-04-17', 'stars': 89662, 'forks': 30640, 'open_issues': 1362, 'language': 'Vue'}, {'id': 28457823, 'repo_name': 'freeCodeCamp', 'created_at': '2014-12-24', 'stars': 423733, 'forks': 40894, 'open_issues': 310, 'language': 'TypeScript'}, {'id': 83222441, 'repo_name': 'system-design-primer', 'created_at': '2017-02-26', 'stars': 311890, 'forks': 51300, 'open_issues': 510, 'language': 'Python'}, {'id': 307260205, 'repo_name': 'yt-dlp', 'created_at': '2020-10-26', 'stars': 119520, 'forks': 9477, 'open_issues': 2000, 'language': 'Python'}, {'id': 599320067, 'repo_name': 'langflow', 'created_at': '2023-02-08', 'stars': 88563, 'forks': 7125, 'open_issues': 841, 'language': 'Python'}, {'id': 155220641, 'repo_name': 'transformers', 'created_at': '2018-10-29', 'stars': 147227, 'forks': 29721, 'open_issues': 1890, 'language': 'Python'}, {'id': 112507086, 'repo_name': '30-seconds-of-code', 'created_at': '2017-11-29', 'stars': 124632, 'forks': 12259, 'open_issues': 1, 'language': 'JavaScript'}, {'id': 100060912, 'repo_name': 'terminal', 'created_at': '2017-08-11', 'stars': 98959, 'forks': 8657, 'open_issues': 1668, 'language': 'C++'}, {'id': 184456251, 'repo_name': 'PowerToys', 'created_at': '2019-05-01', 'stars': 121020, 'forks': 7187, 'open_issues': 6883, 'language': 'C#'}, {'id': 14440270, 'repo_name': 'You-Dont-Know-JS', 'created_at': '2013-11-16', 'stars': 182718, 'forks': 33651, 'open_issues': 125, 'language': None}, {'id': 121395510, 'repo_name': 'CS-Notes', 'created_at': '2018-02-13', 'stars': 181045, 'forks': 51174, 'open_issues': 189, 'language': None}, {'id': 243950408, 'repo_name': 'HowToCook', 'created_at': '2020-02-29', 'stars': 91383, 'forks': 10399, 'open_issues': 439, 'language': 'Dockerfile'}, {'id': 27193779, 'repo_name': 'node', 'created_at': '2014-11-26', 'stars': 112291, 'forks': 32213, 'open_issues': 2308, 'language': 'JavaScript'}, {'id': 9384267, 'repo_name': 'electron', 'created_at': '2013-04-12', 'stars': 117543, 'forks': 16229, 'open_issues': 870, 'language': 'C++'}, {'id': 612230, 'repo_name': 'nvm', 'created_at': '2010-04-15', 'stars': 85929, 'forks': 9052, 'open_issues': 357, 'language': 'Shell'}, {'id': 41881900, 'repo_name': 'vscode', 'created_at': '2015-09-03', 'stars': 174776, 'forks': 33855, 'open_issues': 11815, 'language': 'TypeScript'}, {'id': 58028038, 'repo_name': 'HelloGitHub', 'created_at': '2016-05-04', 'stars': 122098, 'forks': 10550, 'open_issues': 205, 'language': 'Python'}, {'id': 19415064, 'repo_name': 'computer-science', 'created_at': '2014-05-04', 'stars': 188545, 'forks': 23517, 'open_issues': 14, 'language': 'HTML'}, {'id': 196701619, 'repo_name': 'tauri', 'created_at': '2019-07-13', 'stars': 94745, 'forks': 2971, 'open_issues': 1172, 'language': 'Rust'}, {'id': 2126244, 'repo_name': 'bootstrap', 'created_at': '2011-07-29', 'stars': 172542, 'forks': 79108, 'open_issues': 555, 'language': 'MDX'}, {'id': 54173593, 'repo_name': 'storybook', 'created_at': '2016-03-18', 'stars': 87273, 'forks': 9612, 'open_issues': 2178, 'language': 'TypeScript'}, {'id': 233472199, 'repo_name': 'Microsoft-Activation-Scripts', 'created_at': '2020-01-12', 'stars': 142031, 'forks': 13759, 'open_issues': 0, 'language': 'Batchfile'}, {'id': 24195339, 'repo_name': 'angular', 'created_at': '2014-09-18', 'stars': 98324, 'forks': 26430, 'open_issues': 1574, 'language': 'TypeScript'}, {'id': 16408992, 'repo_name': 'neovim', 'created_at': '2014-01-31', 'stars': 91266, 'forks': 6196, 'open_issues': 1967, 'language': 'Vim Script'}, {'id': 65600975, 'repo_name': 'pytorch', 'created_at': '2016-08-13', 'stars': 91642, 'forks': 24713, 'open_issues': 16590, 'language': 'Python'}, {'id': 10270250, 'repo_name': 'react', 'created_at': '2013-05-24', 'stars': 237452, 'forks': 48964, 'open_issues': 1035, 'language': 'JavaScript'}, {'id': 15634981, 'repo_name': 'godot', 'created_at': '2014-01-04', 'stars': 99077, 'forks': 22839, 'open_issues': 15831, 'language': 'C++'}, {'id': 55076063, 'repo_name': 'Awesome-Hacking', 'created_at': '2016-03-30', 'stars': 95145, 'forks': 9407, 'open_issues': 26, 'language': None}, {'id': 22790488, 'repo_name': 'java-design-patterns', 'created_at': '2014-08-09', 'stars': 92267, 'forks': 27094, 'open_issues': 156, 'language': 'Java'}, {'id': 29028775, 'repo_name': 'react-native', 'created_at': '2015-01-09', 'stars': 123106, 'forks': 24762, 'open_issues': 1035, 'language': 'C++'}, {'id': 21289110, 'repo_name': 'awesome-python', 'created_at': '2014-06-27', 'stars': 251145, 'forks': 26005, 'open_issues': 480, 'language': 'Python'}, {'id': 943149, 'repo_name': 'd3', 'created_at': '2010-09-27', 'stars': 111083, 'forks': 22847, 'open_issues': 21, 'language': 'Shell'}, {'id': 62607227, 'repo_name': 'tech-interview-handbook', 'created_at': '2016-07-05', 'stars': 127861, 'forks': 15575, 'open_issues': 54, 'language': 'TypeScript'}, {'id': 88011908, 'repo_name': 'project-based-learning', 'created_at': '2017-04-12', 'stars': 235959, 'forks': 30895, 'open_issues': 232, 'language': None}, {'id': 36633370, 'repo_name': 'awesome-selfhosted', 'created_at': '2015-06-01', 'stars': 237520, 'forks': 11022, 'open_issues': 0, 'language': None}, {'id': 701547123, 'repo_name': 'open-webui', 'created_at': '2023-10-06', 'stars': 103305, 'forks': 13849, 'open_issues': 251, 'language': 'JavaScript'}, {'id': 11730342, 'repo_name': 'vue', 'created_at': '2013-07-29', 'stars': 209169, 'forks': 33752, 'open_issues': 603, 'language': 'TypeScript'}, {'id': 90796663, 'repo_name': 'puppeteer', 'created_at': '2017-05-09', 'stars': 91211, 'forks': 9233, 'open_issues': 268, 'language': 'TypeScript'}, {'id': 552661142, 'repo_name': 'langchain', 'created_at': '2022-10-17', 'stars': 111889, 'forks': 18240, 'open_issues': 297, 'language': 'Jupyter Notebook'}, {'id': 45717250, 'repo_name': 'tensorflow', 'created_at': '2015-11-07', 'stars': 190826, 'forks': 74763, 'open_issues': 1451, 'language': 'C++'}, {'id': 21737465, 'repo_name': 'awesome', 'created_at': '2014-07-11', 'stars': 383911, 'forks': 30669, 'open_issues': 45, 'language': None}, {'id': 60493101, 'repo_name': 'coding-interview-university', 'created_at': '2016-06-06', 'stars': 323060, 'forks': 79662, 'open_issues': 75, 'language': None}, {'id': 31792824, 'repo_name': 'flutter', 'created_at': '2015-03-06', 'stars': 171476, 'forks': 28871, 'open_issues': 12130, 'language': 'Dart'}, {'id': 157616880, 'repo_name': 'iptv', 'created_at': '2018-11-14', 'stars': 95466, 'forks': 3752, 'open_issues': 476, 'language': 'TypeScript'}, {'id': 6498492, 'repo_name': 'javascript', 'created_at': '2012-11-01', 'stars': 147100, 'forks': 26779, 'open_issues': 171, 'language': 'JavaScript'}, {'id': 21540759, 'repo_name': 'awesome-go', 'created_at': '2014-07-06', 'stars': 147844, 'forks': 12424, 'open_issues': 128, 'language': 'Go'}, {'id': 20580498, 'repo_name': 'kubernetes', 'created_at': '2014-06-06', 'stars': 116426, 'forks': 40973, 'open_issues': 2563, 'language': 'Go'}, {'id': 658928958, 'repo_name': 'ollama', 'created_at': '2023-06-26', 'stars': 147056, 'forks': 12463, 'open_issues': 1921, 'language': 'Go'}, {'id': 132464395, 'repo_name': 'JavaGuide', 'created_at': '2018-05-07', 'stars': 150888, 'forks': 45929, 'open_issues': 73, 'language': 'Java'}, {'id': 626805178, 'repo_name': 'dify', 'created_at': '2023-04-12', 'stars': 107746, 'forks': 16356, 'open_issues': 751, 'language': 'TypeScript'}, {'id': 106017343, 'repo_name': 'tailwindcss', 'created_at': '2017-10-06', 'stars': 89077, 'forks': 4631, 'open_issues': 87, 'language': 'TypeScript'}, {'id': 585146387, 'repo_name': 'ui', 'created_at': '2023-01-04', 'stars': 91324, 'forks': 6330, 'open_issues': 1746, 'language': 'TypeScript'}, {'id': 193215554, 'repo_name': 'n8n', 'created_at': '2019-06-22', 'stars': 121686, 'forks': 36553, 'open_issues': 986, 'language': 'TypeScript'}, {'id': 299354207, 'repo_name': 'rustdesk', 'created_at': '2020-09-28', 'stars': 93548, 'forks': 13607, 'open_issues': 71, 'language': 'Rust'}, {'id': 1039520, 'repo_name': 'youtube-dl', 'created_at': '2010-10-31', 'stars': 136559, 'forks': 10411, 'open_issues': 4143, 'language': 'Python'}, {'id': 34526884, 'repo_name': 'ant-design', 'created_at': '2015-04-24', 'stars': 95421, 'forks': 52996, 'open_issues': 1268, 'language': 'TypeScript'}, {'id': 14098069, 'repo_name': 'free-programming-books-zh_CN', 'created_at': '2013-11-04', 'stars': 114711, 'forks': 28355, 'open_issues': 31, 'language': None}, {'id': 111583593, 'repo_name': 'scrcpy', 'created_at': '2017-11-21', 'stars': 125379, 'forks': 11746, 'open_issues': 2478, 'language': 'C'}, {'id': 63476337, 'repo_name': 'Python', 'created_at': '2016-07-16', 'stars': 203086, 'forks': 47075, 'open_issues': 414, 'language': 'Python'}, {'id': 908531752, 'repo_name': 'DeepSeek-V3', 'created_at': '2024-12-26', 'stars': 98301, 'forks': 16006, 'open_issues': 76, 'language': 'Python'}, {'id': 231283452, 'repo_name': 'excalidraw', 'created_at': '2020-01-02', 'stars': 103887, 'forks': 10307, 'open_issues': 2240, 'language': 'TypeScript'}, {'id': 23096959, 'repo_name': 'go', 'created_at': '2014-08-19', 'stars': 128986, 'forks': 18258, 'open_issues': 9427, 'language': 'Go'}, {'id': 35955666, 'repo_name': 'the-art-of-command-line', 'created_at': '2015-05-20', 'stars': 157145, 'forks': 14714, 'open_issues': 251, 'language': None}, {'id': 1062897, 'repo_name': 'gitignore', 'created_at': '2010-11-08', 'stars': 168110, 'forks': 83052, 'open_issues': 315, 'language': None}, {'id': 724712, 'repo_name': 'rust', 'created_at': '2010-06-16', 'stars': 105174, 'forks': 13559, 'open_issues': 11389, 'language': 'Rust'}, {'id': 74791366, 'repo_name': 'clean-code-javascript', 'created_at': '2016-11-25', 'stars': 93253, 'forks': 12450, 'open_issues': 109, 'language': 'JavaScript'}, {'id': 919443098, 'repo_name': 'DeepSeek-R1', 'created_at': '2025-01-20', 'stars': 90607, 'forks': 11700, 'open_issues': 85, 'language': None}]"
      ]
    },
    {
      "cell_type": "markdown",
      "metadata": {
        "id": "lzr7oKVBnzY0"
      },
      "source": [
        "## 問 1\n",
        "\n",
        "`data` 内のどれか一つのレポジトリのデータから、レポジトリがコピーされた数 (`forks` の値) を出力してください。"
      ]
    },
    {
      "cell_type": "code",
      "execution_count": 10,
      "metadata": {
        "id": "hi8XckUJnzY1"
      },
      "outputs": [],
      "source": [
        "# 問 1 のコード"
      ]
    },
    {
      "cell_type": "markdown",
      "metadata": {
        "id": "JxBFvuN6nzY1"
      },
      "source": [
        "## 問 2\n",
        "\n",
        "レポジトリの名前 (`repo_name`) が `next.js` である、レポジトリのお気に入り数 (`stars` の値) を出力してください。\n",
        "\n",
        "注: レポジトリの名前が `next.js` であるかどうかのチェックもコードで書くこと。"
      ]
    },
    {
      "cell_type": "code",
      "execution_count": 11,
      "metadata": {
        "id": "RDFEN4t1nzY1"
      },
      "outputs": [],
      "source": [
        "# 問 2 のコード"
      ]
    },
    {
      "cell_type": "markdown",
      "metadata": {
        "id": "_fnWIsIGnzY2"
      },
      "source": [
        "## 問 3\n",
        "\n",
        "`data` にはいくつのレポジトリのデータが含まれていますか。\n",
        "\n",
        "以下のコードセルで数を出力してください。"
      ]
    },
    {
      "cell_type": "code",
      "execution_count": 12,
      "metadata": {
        "id": "sGjOcWA-nzY2"
      },
      "outputs": [],
      "source": [
        "# 問 3 の コード"
      ]
    },
    {
      "cell_type": "markdown",
      "metadata": {
        "id": "u2UVawtWnzY2"
      },
      "source": [
        "## 問 4\n",
        "\n",
        "主に使用しているプログラミング言語 (`language`) が `TypeScript` であるレポジトリは何個ありますか。\n",
        "\n",
        "結果を出力してください。"
      ]
    },
    {
      "cell_type": "code",
      "execution_count": 13,
      "metadata": {
        "id": "DRhJabp1nzY2"
      },
      "outputs": [],
      "source": [
        "# 問 4 のコード"
      ]
    },
    {
      "cell_type": "markdown",
      "metadata": {
        "id": "MC3nuPNnnzY2"
      },
      "source": [
        "## 問 5\n",
        "\n",
        "主に使われているプログラミング言語 (`language`) の人気ランキングを作成してください。\n",
        "\n",
        "以下のコードセルを使って数を計算し、上位 3 つまでを出力してください。\n",
        "\n",
        "なお、`None` は含みません。\n",
        "\n",
        "例えば 1 位, 2 位が 1 で、3 位が 2 つなどのような場合、4 つ出力してください。"
      ]
    },
    {
      "cell_type": "code",
      "execution_count": 14,
      "metadata": {
        "id": "jJgdNEs6nzY3"
      },
      "outputs": [],
      "source": [
        "# 問 5 の コード"
      ]
    },
    {
      "cell_type": "markdown",
      "metadata": {
        "id": "540WOkUBnzY3"
      },
      "source": [
        "## 問 6\n",
        "\n",
        "このデータセット内の `stars`, `open_issues`, `forks` の平均を計算したいとします。\n",
        "\n",
        "データセットと平均を計算したい項目名を指定すると、平均値を返す関数 `calc_mean` を作成してください。\n",
        "\n",
        "例えば、`calc_mean(data, \"stars\")` とすると `stars` の平均値を返します。"
      ]
    },
    {
      "cell_type": "code",
      "execution_count": 15,
      "metadata": {
        "id": "WWgPPjJsnzY3"
      },
      "outputs": [],
      "source": [
        "# 問 6 のコード"
      ]
    },
    {
      "cell_type": "markdown",
      "metadata": {
        "id": "0_tUlcpGnzY3"
      },
      "source": [
        "## 問 7\n",
        "\n",
        "問 6 で作成した関数を用いて、`stars`, `open_issues`, `forks` の平均値を出力してください。\n",
        "\n",
        "出力の際は、どの項目の平均値を示しているのかが分かるようにしてください。"
      ]
    },
    {
      "cell_type": "code",
      "execution_count": 16,
      "metadata": {
        "id": "gQMZU1IhnzY3"
      },
      "outputs": [],
      "source": [
        "# 問 7 のコード"
      ]
    },
    {
      "cell_type": "markdown",
      "metadata": {
        "id": "lz3hIY1OnzY3"
      },
      "source": [
        "# 問 8\n",
        "\n",
        "このデータセット内で、作成された日時が最も古いレポジトリと、最も新しいレポジトリのお気に入り数 (`stars` の値) をそれぞれ出力してください。\n",
        "\n",
        "出力の際は、古い方と新しい方のどちらなのか分かるようにしてください。"
      ]
    },
    {
      "cell_type": "code",
      "execution_count": 17,
      "metadata": {
        "id": "OcDtV52UnzY3"
      },
      "outputs": [],
      "source": [
        "# 問 8 のコード"
      ]
    },
    {
      "cell_type": "markdown",
      "metadata": {
        "id": "HTE4d2rcnzY3"
      },
      "source": [
        "## 問 9\n",
        "\n",
        "このデータセット内で、レポジトリが作成されたのが一番多い年はいつですか。\n",
        "\n",
        "結果を出力してください。"
      ]
    },
    {
      "cell_type": "code",
      "execution_count": 18,
      "metadata": {
        "id": "EPyQ7Yn8nzY3"
      },
      "outputs": [],
      "source": [
        "# 問 9 のコード"
      ]
    },
    {
      "cell_type": "markdown",
      "metadata": {
        "id": "YniEk58ynzY4"
      },
      "source": [
        "## 問 10\n",
        "\n",
        "主に使用しているプログラミング言語が `Python` であるレポジトリのお気に入り数 (`stars` の値) の平均値を計算してください。"
      ]
    },
    {
      "cell_type": "code",
      "execution_count": 19,
      "metadata": {
        "id": "pYwMBjtUnzY4"
      },
      "outputs": [],
      "source": [
        "# 問 10 のコード"
      ]
    }
  ],
  "metadata": {
    "colab": {
      "provenance": [],
      "include_colab_link": true
    },
    "kernelspec": {
      "display_name": "class-data-analysis-i-2025-py3.11",
      "language": "python",
      "name": "python3"
    },
    "language_info": {
      "codemirror_mode": {
        "name": "ipython",
        "version": 3
      },
      "file_extension": ".py",
      "mimetype": "text/x-python",
      "name": "python",
      "nbconvert_exporter": "python",
      "pygments_lexer": "ipython3",
      "version": "3.11.11"
    }
  },
  "nbformat": 4,
  "nbformat_minor": 0
}