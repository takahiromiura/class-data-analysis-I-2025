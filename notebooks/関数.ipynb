{
  "cells": [
    {
      "cell_type": "markdown",
      "metadata": {
        "colab_type": "text",
        "id": "view-in-github"
      },
      "source": [
        "<a href=\"https://colab.research.google.com/github/takahiromiura/class_data_analysis_I/blob/main/notebooks/%E9%96%A2%E6%95%B0%E5%AE%9A%E7%BE%A9.ipynb\" target=\"_parent\"><img src=\"https://colab.research.google.com/assets/colab-badge.svg\" alt=\"Open In Colab\"/></a>"
      ]
    },
    {
      "cell_type": "markdown",
      "metadata": {
        "id": "E4HQvMLDsAOv"
      },
      "source": [
        " # 関数\n",
        "\n",
        "\n",
        "\n",
        " 以下の 3 人 の BMI に対して肥満度カテゴリーを出力してみましょう。\n",
        "\n",
        "\n",
        "\n",
        " 1. A さん: BMI = 30.5\n",
        "\n",
        " 2. B さん: BMI = 16.7\n",
        "\n",
        " 3. C さん: BMI = 23.4\n",
        "\n",
        "\n",
        "\n",
        " まずは `bmi_data` という辞書型のデータを作成しておきます。"
      ]
    },
    {
      "cell_type": "code",
      "execution_count": 1,
      "metadata": {
        "colab": {
          "base_uri": "https://localhost:8080/"
        },
        "id": "RvFM7_TEsAOw",
        "outputId": "46464004-a160-41bf-98e7-a1cdc5bc1bf7"
      },
      "outputs": [
        {
          "data": {
            "text/plain": [
              "{'A': 30.5, 'B': 16.7, 'C': 23.4}"
            ]
          },
          "execution_count": 1,
          "metadata": {},
          "output_type": "execute_result"
        }
      ],
      "source": [
        "bmi_data = {\n",
        "    \"A\": 30.5,\n",
        "    \"B\": 16.7,\n",
        "    \"C\": 23.4,\n",
        "}\n",
        "bmi_data"
      ]
    },
    {
      "cell_type": "markdown",
      "metadata": {
        "id": "Tr7G1gDZsAOx"
      },
      "source": [
        " 日本肥満学会の出している[ガイドライン](http://www.jasso.or.jp/data/magazine/pdf/medicareguide2022_2.pdf)によると、肥満度は BMI によって次のように分類されます。\n",
        "\n",
        "\n",
        "\n",
        " - BMI が 18.5 未満なら 低体重\n",
        "\n",
        " - BMI が 18.5 以上 25 未満なら普通体重\n",
        "\n",
        " - BMI が 25 以上なら 肥満\n",
        "\n",
        "\n",
        "\n",
        " A さんの肥満度カテゴリーを出力してみます。"
      ]
    },
    {
      "cell_type": "code",
      "execution_count": 2,
      "metadata": {
        "colab": {
          "base_uri": "https://localhost:8080/"
        },
        "id": "vBjdmfx2sAOx",
        "outputId": "f82ef4fe-6d16-47bf-df22-11ba2ca11375"
      },
      "outputs": [
        {
          "name": "stdout",
          "output_type": "stream",
          "text": [
            "肥満\n"
          ]
        }
      ],
      "source": [
        "if bmi_data[\"A\"] >= 25:\n",
        "    print(\"肥満\")\n",
        "elif bmi_data[\"A\"] < 18.5:\n",
        "    print(\"低体重\")\n",
        "else:\n",
        "    print(\"普通体重\")"
      ]
    },
    {
      "cell_type": "markdown",
      "metadata": {
        "id": "lpkaEoAGsAOx"
      },
      "source": [
        "各 BMI の肥満度カテゴリーを出力するために、同じロジックを実装するのは面倒です。\n",
        "\n",
        "バグがあった場合に、修正漏れが出る可能性もあります。\n",
        "\n",
        "この例ではループ処理を使って解決もできますが、ここでは新たに **関数** の作り方を説明します。\n",
        "\n",
        "関数を作成することによって、処理を使い回しすることができます。\n",
        "\n",
        "例えば、BMI を入力すると肥満度カテゴリーを出力する関数を作成することができます。"
      ]
    },
    {
      "cell_type": "markdown",
      "metadata": {
        "id": "6TbOQkzPsAOx"
      },
      "source": [
        "## def 構文\n",
        "\n",
        "関数定義には、 `def` 構文を使用します。\n",
        "\n",
        "関数で行う処理内容は、`if` 構文の時と同様、インデントしたブロック内に記載します。\n",
        "\n",
        "`def` 構文は以下のようなものです。\n",
        "\n",
        "```py\n",
        "\n",
        "def <func_name>(<arg_name>):\n",
        "\n",
        "    <operation>\n",
        "\n",
        "    return <value>\n",
        "\n",
        "```\n",
        "\n",
        "def 構文は主に 4 つ要素から成り立ちます。\n",
        "\n",
        "1. 関数の名前: func_name\n",
        "\n",
        "2. 関数に入れるもの (引数): arg_name\n",
        "\n",
        "3. 関数内で行う処理: operation\n",
        "\n",
        "4. 関数が返すもの (返り値): value\n",
        "\n",
        "関数の名前の規則は変数定義の時と同じです。\n",
        "\n",
        "関数に入れたものは、指定した引数名が割り当てられます。\n",
        "\n",
        "関数内で実行する処理内容はインデントブロック内に記述します。\n",
        "\n",
        "関数内で処理した結果を受け取りたい場合には `return` を用います。\n",
        "\n",
        "`return` の後にスペースを加えて、関数が返す値を記述します。\n",
        "\n",
        "引数と返り値は省略可能です。\n",
        "\n",
        "引数がない場合、関数は毎回同じ処理を行います。\n",
        "\n",
        "返り値がない場合、関数は `None` を返します。\n",
        "\n",
        "以下は適当な関数の例です。"
      ]
    },
    {
      "cell_type": "code",
      "execution_count": 3,
      "metadata": {
        "id": "mJRZRCPLsAOy"
      },
      "outputs": [],
      "source": [
        "def get_one():\n",
        "    print(\"1\")\n",
        "    return 1"
      ]
    },
    {
      "cell_type": "markdown",
      "metadata": {
        "id": "PW9_yCLZsAOy"
      },
      "source": [
        "##### やってみよう\n",
        "\n",
        "上で定義した関数の名前、引数名、処理内容、返り値はそれぞれ何ですか。"
      ]
    },
    {
      "cell_type": "markdown",
      "metadata": {
        "id": "-KIQ3X1vsAOy"
      },
      "source": [
        " 上で定義した関数は次のように実行します。"
      ]
    },
    {
      "cell_type": "code",
      "execution_count": 4,
      "metadata": {
        "colab": {
          "base_uri": "https://localhost:8080/"
        },
        "id": "GKcKLZYAsAOy",
        "outputId": "d69d88c4-2fff-4067-e9c9-e0e500c4d2f5"
      },
      "outputs": [
        {
          "name": "stdout",
          "output_type": "stream",
          "text": [
            "1\n"
          ]
        },
        {
          "data": {
            "text/plain": [
              "1"
            ]
          },
          "execution_count": 4,
          "metadata": {},
          "output_type": "execute_result"
        }
      ],
      "source": [
        "get_one()"
      ]
    },
    {
      "cell_type": "markdown",
      "metadata": {
        "id": "pt4bouQ7sAOy"
      },
      "source": [
        " `()` をつけないと関数自体を呼び出すだけになることに注意してください。"
      ]
    },
    {
      "cell_type": "code",
      "execution_count": 5,
      "metadata": {
        "colab": {
          "base_uri": "https://localhost:8080/",
          "height": 104
        },
        "id": "In6WXcwfsAOy",
        "outputId": "e604306e-084a-4e1f-8aeb-8af7295b4054"
      },
      "outputs": [
        {
          "data": {
            "text/html": [
              "<div style=\"max-width:800px; border: 1px solid var(--colab-border-color);\"><style>\n",
              "      pre.function-repr-contents {\n",
              "        overflow-x: auto;\n",
              "        padding: 8px 12px;\n",
              "        max-height: 500px;\n",
              "      }\n",
              "\n",
              "      pre.function-repr-contents.function-repr-contents-collapsed {\n",
              "        cursor: pointer;\n",
              "        max-height: 100px;\n",
              "      }\n",
              "    </style>\n",
              "    <pre style=\"white-space: initial; background:\n",
              "         var(--colab-secondary-surface-color); padding: 8px 12px;\n",
              "         border-bottom: 1px solid var(--colab-border-color);\"><b>get_one</b><br/>def get_one()</pre><pre class=\"function-repr-contents function-repr-contents-collapsed\" style=\"\"><a class=\"filepath\" style=\"display:none\" href=\"#\">/content/&lt;ipython-input-3-278c2845ec48&gt;</a>&lt;no docstring&gt;</pre></div>"
            ],
            "text/plain": [
              "<function __main__.get_one()>"
            ]
          },
          "execution_count": 5,
          "metadata": {},
          "output_type": "execute_result"
        }
      ],
      "source": [
        "get_one"
      ]
    },
    {
      "cell_type": "markdown",
      "metadata": {
        "id": "QdDHJ1y0sAOy"
      },
      "source": [
        "## 引数\n",
        "\n",
        "引数を定義した場合、`()` に入れた値は、引数名の変数に割り当てられます。\n",
        "\n",
        "以下の例では、`3` が `x` に割り当てられていることがわかります。"
      ]
    },
    {
      "cell_type": "code",
      "execution_count": 6,
      "metadata": {
        "colab": {
          "base_uri": "https://localhost:8080/"
        },
        "id": "FY87hTiVsAOy",
        "outputId": "f4ed10ac-6e72-41f3-d660-7c80e1a466ac"
      },
      "outputs": [
        {
          "data": {
            "text/plain": [
              "5"
            ]
          },
          "execution_count": 6,
          "metadata": {},
          "output_type": "execute_result"
        }
      ],
      "source": [
        "def add_two(x):\n",
        "    return x + 2\n",
        "\n",
        "add_two(3)"
      ]
    },
    {
      "cell_type": "markdown",
      "metadata": {
        "id": "YZ7mYqw6sAOz"
      },
      "source": [
        "次の例では、引数名では `x` としてるのに、関数内で定義していない `y` を参照しているのでエラーになります。"
      ]
    },
    {
      "cell_type": "code",
      "execution_count": 7,
      "metadata": {
        "id": "D_HxdrFTsAOz"
      },
      "outputs": [],
      "source": [
        "# def invalid_name(x):\n",
        "#     return y + 2\n",
        "#\n",
        "# invalid_name(3)"
      ]
    },
    {
      "cell_type": "markdown",
      "metadata": {
        "id": "qH-sPMbssAOz"
      },
      "source": [
        "##### やってみよう\n",
        "\n",
        "次の関数を作成してみましょう。\n",
        "- cm 基準の身長を入れると、m 単位に変換した値を返す関数"
      ]
    },
    {
      "cell_type": "markdown",
      "metadata": {
        "id": "oKGItS_8sAOz"
      },
      "source": [
        "### 複数の引数定義\n",
        "\n",
        "引数の数は増やすことができます。\n",
        "\n",
        "引数名は `,` で区切ります。"
      ]
    },
    {
      "cell_type": "code",
      "execution_count": 8,
      "metadata": {
        "colab": {
          "base_uri": "https://localhost:8080/"
        },
        "id": "vDGhW5vxsAOz",
        "outputId": "235aded8-6684-4a02-ecfb-5e3990e991a3"
      },
      "outputs": [
        {
          "data": {
            "text/plain": [
              "8"
            ]
          },
          "execution_count": 8,
          "metadata": {},
          "output_type": "execute_result"
        }
      ],
      "source": [
        "def sum_values(x, y):\n",
        "    return x + y\n",
        "\n",
        "sum_values(3, 5)"
      ]
    },
    {
      "cell_type": "markdown",
      "metadata": {
        "id": "i2yM3yJwsAOz"
      },
      "source": [
        "### 引数の入力方法\n",
        "\n",
        "引数の入力の仕方は 2 種類あります。\n",
        "\n",
        "値を入力しただけの場合、左の引数から順番に値が割り当てられます (positional argument: **位置引数**)。\n",
        "\n",
        "先の関数を少し変更して、各変数にどの値が割り当てられているかを出力します。\n",
        "\n",
        "ちなみに、下記の例のように、`print` 関数にも複数の引数を入れることができます。"
      ]
    },
    {
      "cell_type": "code",
      "execution_count": null,
      "metadata": {
        "colab": {
          "base_uri": "https://localhost:8080/"
        },
        "id": "sg6ap9YHsAOz",
        "outputId": "d50046e2-e7b5-4ba3-a7b7-ee9d5f5f57fd"
      },
      "outputs": [
        {
          "name": "stdout",
          "output_type": "stream",
          "text": [
            "x: 3\n",
            "y: 5\n"
          ]
        },
        {
          "data": {
            "text/plain": [
              "8"
            ]
          },
          "execution_count": 9,
          "metadata": {},
          "output_type": "execute_result"
        }
      ],
      "source": [
        "def sum_values(x, y):\n",
        "    print(\"x:\", x)\n",
        "    print(\"y:\", y)\n",
        "    return x + y\n",
        "\n",
        "sum_values(3, 5)"
      ]
    },
    {
      "cell_type": "markdown",
      "metadata": {
        "id": "e8NxLB72sAOz"
      },
      "source": [
        "引数名を指定すると、対応する引数名に値が割り当てられます (keyword argument: **キーワード引数**)。"
      ]
    },
    {
      "cell_type": "code",
      "execution_count": 10,
      "metadata": {
        "colab": {
          "base_uri": "https://localhost:8080/"
        },
        "id": "QEbElwd6sAOz",
        "outputId": "2be2a784-964a-41f2-87f9-99f7c94b10eb"
      },
      "outputs": [
        {
          "name": "stdout",
          "output_type": "stream",
          "text": [
            "x: 5\n",
            "y: 3\n"
          ]
        },
        {
          "data": {
            "text/plain": [
              "8"
            ]
          },
          "execution_count": 10,
          "metadata": {},
          "output_type": "execute_result"
        }
      ],
      "source": [
        "sum_values(y = 3, x = 5)"
      ]
    },
    {
      "cell_type": "markdown",
      "metadata": {
        "id": "Dbuiv9VusAO0"
      },
      "source": [
        " 位置引数はキーワード引数の前にする必要があります。\n",
        "\n"
      ]
    },
    {
      "cell_type": "code",
      "execution_count": 11,
      "metadata": {
        "id": "NZSbpZLAsAO0"
      },
      "outputs": [],
      "source": [
        "# sum_values(x = 3, 5)"
      ]
    },
    {
      "cell_type": "markdown",
      "metadata": {
        "id": "M4ivjB94sAO0"
      },
      "source": [
        " そのため、次もエラーになります。\n",
        "\n",
        " これは、位置引数によって `x = 5` が割り当てられているにも関わらず、さらに `x = 3` を割り当てられているからです。\n",
        "\n"
      ]
    },
    {
      "cell_type": "code",
      "execution_count": 12,
      "metadata": {
        "id": "mbZMRvRJsAO0"
      },
      "outputs": [],
      "source": [
        "# sum_values(5, x = 3)"
      ]
    },
    {
      "cell_type": "markdown",
      "metadata": {
        "id": "qUa-W11XsAO0"
      },
      "source": [
        "関数の引数の順番が明確ではない場合、キーワード引数を用いた方が安全です。\n",
        "\n",
        "例えば、BMI の計算をする関数に対して、身長と体重の入力の順番を間違えると大変なことになります。\n",
        "\n",
        "手間ですが、このようなミスを防ぐためにはキーワード引数の方が良いでしょう。"
      ]
    },
    {
      "cell_type": "markdown",
      "metadata": {
        "id": "uVk338t0sAO0"
      },
      "source": [
        "#### やってみよう\n",
        "\n",
        "以下の関数を作成してください。\n",
        "\n",
        "- 身長 (m), 体重 (kg) を入力すると、BMI を返す関数\n",
        "\n",
        "BMI = 体重 / 身長の 2 乗"
      ]
    },
    {
      "cell_type": "markdown",
      "metadata": {
        "id": "UAcUEyVEsAO0"
      },
      "source": [
        "### デフォルト値\n",
        "\n",
        "引数のデフォルト値を設定することで、挙動を変更したいときだけ入力が必要な関数を作ることも可能です。\n",
        "\n",
        "引数の定義の際に、`<arg_name> = i` とすると、`arg_name` という引数名のデフォルト値を `i` にすることができます。"
      ]
    },
    {
      "cell_type": "code",
      "execution_count": 13,
      "metadata": {
        "colab": {
          "base_uri": "https://localhost:8080/"
        },
        "id": "DfIDZF4nsAO0",
        "outputId": "78475b83-475e-4df4-a3cb-e7b424c88105"
      },
      "outputs": [
        {
          "name": "stdout",
          "output_type": "stream",
          "text": [
            "おはよう\n",
            "おはよう\n",
            "こんにちは\n",
            "こんばんは\n"
          ]
        }
      ],
      "source": [
        "def greeting(time_of_day=\"morning\"):\n",
        "    if time_of_day == \"morning\":\n",
        "        return \"おはよう\"\n",
        "    elif time_of_day == \"afternoon\":\n",
        "        return \"こんにちは\"\n",
        "    else:\n",
        "        return \"こんばんは\"\n",
        "\n",
        "print(greeting())  # デフォルト値を使用（おはよう）\n",
        "print(greeting(\"morning\"))  # おはよう\n",
        "print(greeting(\"afternoon\"))  # こんにちは\n",
        "print(greeting(\"evening\"))  # こんばんは"
      ]
    },
    {
      "cell_type": "markdown",
      "metadata": {
        "id": "g-qSW2c3sAO0"
      },
      "source": [
        "デフォルト値を持つ引数は、デフォルト値を持たない引数よりも後に定義する必要があります。"
      ]
    },
    {
      "cell_type": "code",
      "execution_count": 14,
      "metadata": {
        "colab": {
          "base_uri": "https://localhost:8080/"
        },
        "id": "VKOyYktgsAO0",
        "outputId": "28ddfb11-b0e6-4bd8-8be9-d528b861d959"
      },
      "outputs": [
        {
          "name": "stdout",
          "output_type": "stream",
          "text": [
            "3.14\n",
            "3.1415\n"
          ]
        }
      ],
      "source": [
        "def calculate_circle_area(radius, pi=3.14):\n",
        "    return pi * (radius ** 2)\n",
        "\n",
        "print(calculate_circle_area(1))\n",
        "print(calculate_circle_area(1, 3.1415))"
      ]
    },
    {
      "cell_type": "markdown",
      "metadata": {
        "id": "S0Xv90oysAO1"
      },
      "source": [
        "以下はエラーになります。"
      ]
    },
    {
      "cell_type": "code",
      "execution_count": 15,
      "metadata": {
        "id": "vSImo2D7sAO1"
      },
      "outputs": [],
      "source": [
        "# def calculate_circle_area(pi=3.14, radius):\n",
        "#     return pi * (radius ** 2)"
      ]
    },
    {
      "cell_type": "markdown",
      "metadata": {
        "id": "GOm38vXVsAO1"
      },
      "source": [
        "#### やってみよう\n",
        "\n",
        "3 つの引数 (`height`, `weight`, `convert_meter`) を定義して、次の機能を持つ関数を作成してください。\n",
        "\n",
        "1. `convert_meter = False` にすると、入力した身長 (m) と体重 (kg) から BMI を計算し、その値を返す\n",
        "2. `convert_meter = True` とすると、入力した 身長 (cm) と体重 (kg) から、身長を m 単位に変換してから BMI を計算し、その値を返す\n",
        "\n",
        "`convert_meter` のデフォルト値を `False` に設定して、身長と体重だけを入力した場合は 1 を、`convert_meter = True` にしたときだけ 2 を行うようにしてください。\n",
        "\n"
      ]
    },
    {
      "cell_type": "markdown",
      "metadata": {
        "id": "e17jWxkZsAO1"
      },
      "source": [
        "## `return` と関数の実行\n",
        "\n",
        "`return` が実行されると、その後のコードは無視されます。\n",
        "\n",
        "言い換えると、その関数の実行が終了します。"
      ]
    },
    {
      "cell_type": "code",
      "execution_count": 16,
      "metadata": {
        "colab": {
          "base_uri": "https://localhost:8080/",
          "height": 54
        },
        "id": "na_qfn4-sAO1",
        "outputId": "74de7218-0965-456e-db31-6f7f4643a5e3"
      },
      "outputs": [
        {
          "name": "stdout",
          "output_type": "stream",
          "text": [
            "above\n"
          ]
        },
        {
          "data": {
            "application/vnd.google.colaboratory.intrinsic+json": {
              "type": "string"
            },
            "text/plain": [
              "'return'"
            ]
          },
          "execution_count": 16,
          "metadata": {},
          "output_type": "execute_result"
        }
      ],
      "source": [
        "def check_return():\n",
        "    print(\"above\")\n",
        "    return \"return\"\n",
        "    print(\"below\") # ここは実行されない\n",
        "\n",
        "check_return()"
      ]
    },
    {
      "cell_type": "markdown",
      "metadata": {
        "id": "OdctvLn8sAO2"
      },
      "source": [
        "## 補足説明: スコープ・ローカル変数\n",
        "\n",
        "関数内で定義した変数は関数内でしか参照できません。\n",
        "\n",
        "関数外で定義した変数は関数内でも参照できます。\n",
        "\n",
        "こういった、変数の参照可能な範囲を **スコープ** (scope) といいます。\n",
        "\n",
        "また、関数内で定義した変数をローカル変数、関数外で定義した変数をグローバル変数といいます。\n",
        "\n",
        "以下の例では、`K` という変数を関数内外で定義していますが、関数を実行しても関数外の変数には影響していません。"
      ]
    },
    {
      "cell_type": "code",
      "execution_count": null,
      "metadata": {
        "colab": {
          "base_uri": "https://localhost:8080/"
        },
        "id": "Vl1xy3orsAO2",
        "outputId": "a226fe44-f935-45dd-d0d3-cd65a144881b"
      },
      "outputs": [
        {
          "name": "stdout",
          "output_type": "stream",
          "text": [
            "10\n",
            "8\n",
            "10\n"
          ]
        }
      ],
      "source": [
        "def define_K(c):\n",
        "    K = c + 5\n",
        "    return K\n",
        "\n",
        "K = 10\n",
        "print(K) # 10\n",
        "print(define_K(3)) # 関数内の K の値を返す (8)\n",
        "print(K) # 10"
      ]
    },
    {
      "cell_type": "markdown",
      "metadata": {
        "id": "V9uOe8q0sAO2"
      },
      "source": [
        "下の例は、関数外で定義した変数を関数内で参照しています。"
      ]
    },
    {
      "cell_type": "code",
      "execution_count": 18,
      "metadata": {
        "colab": {
          "base_uri": "https://localhost:8080/"
        },
        "id": "u4nfw9mKsAO2",
        "outputId": "747d0152-cd6d-4f9a-b763-1aec8044b271"
      },
      "outputs": [
        {
          "name": "stdout",
          "output_type": "stream",
          "text": [
            "5\n"
          ]
        }
      ],
      "source": [
        "def call_global():\n",
        "    print(K)\n",
        "\n",
        "K = 5\n",
        "call_global()"
      ]
    },
    {
      "cell_type": "markdown",
      "metadata": {
        "id": "W1bRcp_UsAO2"
      },
      "source": [
        "一見ややこしく感じるかもしれませんが、これはとても役立ちます。\n",
        "\n",
        "変数や関数を多く定義した場合、このような仕組みがないと、変数内の値が意図せず上書きされてしまう恐れがあります。\n",
        "\n",
        "もしこの仕組みがなかったらどうなるでしょうか。\n",
        "\n",
        "例えば、データ分析をしていて、t 検定を行いたいとします。\n",
        "\n",
        "t 検定には [`scipy`](https://docs.scipy.org/doc/scipy/index.html) というパッケージの [`ttest_ind`](https://docs.scipy.org/doc/scipy/reference/generated/scipy.stats.ttest_ind.html) という関数が使えます (パッケージについては別途説明)。\n",
        "\n",
        "もし分析したいデータの変数名を `df` としていた場合、ローカル変数の仕組みがないと、実は `ttest_ind` を実行すると `df` も書き換わってしまいます。\n",
        "\n",
        "なぜなら、この関数の中で `df` という変数が定義されているからです (`ttest_ind` のソースコードはこちら: [URL](https://github.com/scipy/scipy/blob/v1.11.4/scipy/stats/_stats_py.py#L7174-L7479))。\n",
        "\n",
        "ローカル変数などの仕組みがあることで、このような予期せぬ結果を心配せずに、関数を実行することができます。\n",
        "\n",
        "一応、グローバル変数は関数内で呼び出すことができますが、基本的に推奨はされていません。\n",
        "\n",
        "グローバル変数が変わった場合にどこが変化するかを追いきれなくなる可能性があるためです。"
      ]
    },
    {
      "cell_type": "markdown",
      "metadata": {},
      "source": [
        "## 組み込み関数\n",
        "\n",
        "Python を起動すると `print` など、いくつかの関数が使えます。\n",
        "\n",
        "これを組み込み関数またはビルトイン関数 (built-in function) といいます。\n",
        "\n",
        "以下のドキュメントに記載されています。\n",
        "\n",
        "https://docs.python.org/ja/3.13/library/functions.html\n",
        "\n",
        "全て覚える必要はないですが、どのようなものがあるかだけちらっと見ておくのが良いかもしれません。\n",
        "\n",
        "ここでは、よく用いる関数だけ紹介します。"
      ]
    },
    {
      "cell_type": "markdown",
      "metadata": {},
      "source": [
        "- `abs`: 絶対値を返す関数\n",
        "- `all`: リストやタプルなどの要素が全て `True` かどうかを判定する関数\n",
        "- `any`: リストやタプルなどの要素のどれかが `True` かどうかを判定する関数\n",
        "- `float`: 小数点型に変換する関数\n",
        "- `int`: 整数型に変換する関数\n",
        "- `len`: リストやタプルの長さを返す関数\n",
        "- `list`: リストに変換する関数\n",
        "- `max`: リストやタプルの要素の最大値を返す関数\n",
        "- `min`: リストやタプルの要素の最小値を返す関数\n",
        "- `open`: ファイルを開く関数\n",
        "- `print`: 出力関数\n",
        "- `range`: i ~ i + n までの値を生成する関数 (正確にはシーケンス型)\n",
        "- `reversed`: リストやタプルの要素を逆順に取り出していく関数\n",
        "- `round`: 丸め値を返す関数\n",
        "- `sorted`: リストやタプルの要素をソートする関数\n",
        "- `str`: 文字列に変換する関数\n",
        "- `sum`: リストやタプルの要素の合計値を返す関数\n",
        "- `tuple`: タプルに変換する関数\n",
        "- `type`: 型を判定する関数\n",
        "- `zip`: 複数のリストやタプルから一つずつ取り出すときに使う関数"
      ]
    },
    {
      "cell_type": "code",
      "execution_count": null,
      "metadata": {},
      "outputs": [],
      "source": [
        "# abs: 絶対値\n",
        "print(abs(-3))                 # 3\n",
        "\n",
        "# all: すべての要素が True か\n",
        "print(all([True, 1, \"abc\"]))   # True\n",
        "\n",
        "# any: いずれかの要素が True か\n",
        "print(any([0, \"\", 5]))         # True\n",
        "\n",
        "# float: 浮動小数点に変換\n",
        "print(float(\"3.14\"))           # 3.14\n",
        "\n",
        "# int: 整数に変換\n",
        "print(int(3.99))               # 3\n",
        "\n",
        "# len: 要素数を取得\n",
        "print(len([1, 2, 3]))          # 3\n",
        "\n",
        "# list: リストに変換\n",
        "print(list(\"abc\"))             # ['a', 'b', 'c']\n",
        "\n",
        "# max: 最大値を取得\n",
        "print(max([7, 2, 5]))          # 7\n",
        "\n",
        "# min: 最小値を取得\n",
        "print(min(7, 2, 5))            # 2\n",
        "\n",
        "# open: ファイルを開く（書き込み → 読み込み）\n",
        "with open(\"demo.txt\", \"w\") as f:\n",
        "    f.write(\"hello\")\n",
        "with open(\"demo.txt\") as f:\n",
        "    print(f.read())            # hello\n",
        "\n",
        "# print: 文字列を出力\n",
        "print(\"Hello, world!\")         # Hello, world!\n",
        "\n",
        "# range: 0 から 4 までの連続整数\n",
        "print(list(range(5)))          # [0, 1, 2, 3, 4]\n",
        "\n",
        "# reversed: 逆順イテレータ\n",
        "print(list(reversed([1, 2, 3])))  # [3, 2, 1]\n",
        "\n",
        "# round: 四捨五入（小数第 2 位）\n",
        "print(round(3.14159, 2))       # 3.14\n",
        "\n",
        "# sorted: 新しいソート済みリストを取得\n",
        "print(sorted([3, 1, 2]))       # [1, 2, 3]\n",
        "\n",
        "# str: 文字列に変換\n",
        "print(str(123))                # '123'\n",
        "\n",
        "# sum: 合計値を計算\n",
        "print(sum([1, 2, 3]))          # 6\n",
        "\n",
        "# tuple: タプルに変換\n",
        "print(tuple([1, 2, 3]))        # (1, 2, 3)\n",
        "\n",
        "# type: オブジェクトの型を取得\n",
        "print(type(42))                # <class 'int'>\n",
        "\n",
        "# zip: 複数イテラブルをまとめる\n",
        "print(list(zip(['a', 'b', 'c'], [1, 2, 3])))\n",
        "# [('a', 1), ('b', 2), ('c', 3)]"
      ]
    }
  ],
  "metadata": {
    "colab": {
      "include_colab_link": true,
      "provenance": []
    },
    "kernelspec": {
      "display_name": ".venv",
      "language": "python",
      "name": "python3"
    },
    "language_info": {
      "codemirror_mode": {
        "name": "ipython",
        "version": 3
      },
      "file_extension": ".py",
      "mimetype": "text/x-python",
      "name": "python",
      "nbconvert_exporter": "python",
      "pygments_lexer": "ipython3",
      "version": "3.11.7"
    }
  },
  "nbformat": 4,
  "nbformat_minor": 0
}
